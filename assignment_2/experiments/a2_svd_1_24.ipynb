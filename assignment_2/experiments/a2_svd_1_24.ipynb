{
  "cells": [
    {
      "cell_type": "markdown",
      "metadata": {
        "id": "LisPigTO0Kcd"
      },
      "source": [
        "# Load Data & Libraries"
      ]
    },
    {
      "cell_type": "code",
      "execution_count": 1,
      "metadata": {
        "colab": {
          "base_uri": "https://localhost:8080/"
        },
        "id": "M3aNhJMOrBiE",
        "outputId": "4fe7f388-3d71-41a8-c4e1-8480cc202dd9"
      },
      "outputs": [
        {
          "name": "stdout",
          "output_type": "stream",
          "text": [
            "Mounted at /content/gdrive\n"
          ]
        }
      ],
      "source": [
        "from google.colab import drive\n",
        "drive.mount('/content/gdrive')"
      ]
    },
    {
      "cell_type": "code",
      "execution_count": 2,
      "metadata": {
        "colab": {
          "base_uri": "https://localhost:8080/"
        },
        "id": "lMpz82ltsRU4",
        "outputId": "15e1bfb9-5d7a-41d8-f877-f05ca6fa92aa"
      },
      "outputs": [
        {
          "name": "stdout",
          "output_type": "stream",
          "text": [
            "Mounted at /content/drive\n",
            "/content/drive/MyDrive/dataset/DSA4212/assignment_2\n"
          ]
        }
      ],
      "source": [
        "if 'google.colab' in str(get_ipython()):\n",
        "    drive.mount(\"/content/drive\")\n",
        "    %cd /content/drive/MyDrive/dataset/DSA4212/assignment_2/"
      ]
    },
    {
      "cell_type": "code",
      "execution_count": 3,
      "metadata": {
        "colab": {
          "base_uri": "https://localhost:8080/"
        },
        "id": "n5V3qljXUq0A",
        "outputId": "2c250083-38c7-4a55-ea81-a9ecf7631b2d"
      },
      "outputs": [
        {
          "name": "stdout",
          "output_type": "stream",
          "text": [
            "Looking in indexes: https://pypi.org/simple, https://us-python.pkg.dev/colab-wheels/public/simple/\n",
            "Collecting scikit-surprise\n",
            "  Downloading scikit-surprise-1.1.3.tar.gz (771 kB)\n",
            "\u001b[2K     \u001b[90m━━━━━━━━━━━━━━━━━━━━━━━━━━━━━━━━━━━━━━\u001b[0m \u001b[32m772.0/772.0 KB\u001b[0m \u001b[31m11.2 MB/s\u001b[0m eta \u001b[36m0:00:00\u001b[0m\n",
            "\u001b[?25h  Preparing metadata (setup.py) ... \u001b[?25l\u001b[?25hdone\n",
            "Requirement already satisfied: joblib>=1.0.0 in /usr/local/lib/python3.9/dist-packages (from scikit-surprise) (1.1.1)\n",
            "Requirement already satisfied: numpy>=1.17.3 in /usr/local/lib/python3.9/dist-packages (from scikit-surprise) (1.22.4)\n",
            "Requirement already satisfied: scipy>=1.3.2 in /usr/local/lib/python3.9/dist-packages (from scikit-surprise) (1.10.1)\n",
            "Building wheels for collected packages: scikit-surprise\n",
            "  Building wheel for scikit-surprise (setup.py) ... \u001b[?25l\u001b[?25hdone\n",
            "  Created wheel for scikit-surprise: filename=scikit_surprise-1.1.3-cp39-cp39-linux_x86_64.whl size=3195801 sha256=d9b73a87293c176dfe3e8f24e6904c21fde47c18c440ea7bd5c108845e1c317f\n",
            "  Stored in directory: /root/.cache/pip/wheels/c6/3a/46/9b17b3512bdf283c6cb84f59929cdd5199d4e754d596d22784\n",
            "Successfully built scikit-surprise\n",
            "Installing collected packages: scikit-surprise\n",
            "Successfully installed scikit-surprise-1.1.3\n"
          ]
        }
      ],
      "source": [
        "pip install scikit-surprise"
      ]
    },
    {
      "cell_type": "code",
      "execution_count": 4,
      "metadata": {
        "id": "SN2HnXBMrKiR"
      },
      "outputs": [],
      "source": [
        "import matplotlib.pyplot as plt\n",
        "import numpy as onp\n",
        "import pandas as pd\n",
        "from sklearn.metrics import mean_squared_error\n",
        "from surprise import SVD, SVDpp, Dataset, Reader\n",
        "from surprise.model_selection import GridSearchCV"
      ]
    },
    {
      "cell_type": "code",
      "execution_count": 5,
      "metadata": {
        "id": "TLkEUTv1MRuB"
      },
      "outputs": [],
      "source": [
        "pd.set_option('display.max_columns', 500)\n",
        "pd.set_option('display.width', 1000)"
      ]
    },
    {
      "cell_type": "code",
      "execution_count": 6,
      "metadata": {
        "id": "heUXXs-2rd2Z"
      },
      "outputs": [],
      "source": [
        "anime = pd.read_csv(\"assignment_2_anime.csv\")\n",
        "train = pd.read_csv(\"assignment_2_ratings_train.csv\")\n",
        "test = pd.read_csv(\"assignment_2_ratings_test.csv\")"
      ]
    },
    {
      "cell_type": "markdown",
      "metadata": {
        "id": "SNmQE_sEW9Nn"
      },
      "source": [
        "# SVD Model"
      ]
    },
    {
      "cell_type": "code",
      "execution_count": 8,
      "metadata": {
        "id": "xvDu8T7Wh35s"
      },
      "outputs": [],
      "source": [
        "reader = Reader(rating_scale=(1, 10))"
      ]
    },
    {
      "cell_type": "code",
      "execution_count": 9,
      "metadata": {
        "id": "UXmNK_pPiMgB"
      },
      "outputs": [],
      "source": [
        "train_dataset = Dataset.load_from_df(train, reader)"
      ]
    },
    {
      "cell_type": "code",
      "execution_count": 20,
      "metadata": {
        "colab": {
          "base_uri": "https://localhost:8080/"
        },
        "id": "NY_w8V-NRdN-",
        "outputId": "8257284c-5fac-417c-8e94-9ecf6cfe13f2"
      },
      "outputs": [
        {
          "data": {
            "text/plain": [
              "{'lr_all': 0.01, 'reg_all': 0.06, 'n_factors': 500}"
            ]
          },
          "execution_count": 20,
          "metadata": {},
          "output_type": "execute_result"
        }
      ],
      "source": [
        "param_grid = {'lr_all': [0.005, 0.01, 0.02], 'reg_all': [0.02, 0.06, 0.1], \"n_factors\": [50, 100, 200, 500, 1000]}\n",
        "grid_search = GridSearchCV(SVD, param_grid, measures=['rmse'], cv=3)\n",
        "\n",
        "grid_search.fit(train_dataset)\n",
        "grid_search.best_params['rmse']"
      ]
    },
    {
      "cell_type": "code",
      "execution_count": 10,
      "metadata": {
        "id": "J8NFqzFYieVB"
      },
      "outputs": [],
      "source": [
        "algo = SVD(lr_all = 0.01, reg_all = 0.06, n_factors = 500)"
      ]
    },
    {
      "cell_type": "code",
      "execution_count": 11,
      "metadata": {
        "id": "y4mJO7whkzDk"
      },
      "outputs": [],
      "source": [
        "trainset = train_dataset.build_full_trainset()"
      ]
    },
    {
      "cell_type": "code",
      "execution_count": 12,
      "metadata": {
        "colab": {
          "base_uri": "https://localhost:8080/"
        },
        "id": "tNjQljY5k6oL",
        "outputId": "522e1c28-3ef2-476c-f247-4496060c84e1"
      },
      "outputs": [
        {
          "data": {
            "text/plain": [
              "<surprise.prediction_algorithms.matrix_factorization.SVD at 0x7f3269673a60>"
            ]
          },
          "execution_count": 12,
          "metadata": {},
          "output_type": "execute_result"
        }
      ],
      "source": [
        "algo.fit(trainset)"
      ]
    },
    {
      "cell_type": "code",
      "execution_count": 14,
      "metadata": {
        "id": "0Bb0Gw2RmS1J"
      },
      "outputs": [],
      "source": [
        "predictions = algo.test(test.values.tolist())"
      ]
    },
    {
      "cell_type": "code",
      "execution_count": 15,
      "metadata": {
        "id": "CPygbuo3nY-F"
      },
      "outputs": [],
      "source": [
        "test_preds = list(map(lambda x: x.est, predictions))"
      ]
    },
    {
      "cell_type": "code",
      "execution_count": 16,
      "metadata": {
        "colab": {
          "base_uri": "https://localhost:8080/"
        },
        "id": "yXcT3Kv7nvyg",
        "outputId": "2fc3019a-0a21-4d06-a4d0-458cfb731fc7"
      },
      "outputs": [
        {
          "data": {
            "text/plain": [
              "1.2428775830349175"
            ]
          },
          "execution_count": 16,
          "metadata": {},
          "output_type": "execute_result"
        }
      ],
      "source": [
        "mean_squared_error(test[\"rating\"], test_preds)"
      ]
    }
  ],
  "metadata": {
    "accelerator": "GPU",
    "colab": {
      "provenance": []
    },
    "gpuClass": "standard",
    "kernelspec": {
      "display_name": "Python 3",
      "name": "python3"
    },
    "language_info": {
      "name": "python"
    }
  },
  "nbformat": 4,
  "nbformat_minor": 0
}
