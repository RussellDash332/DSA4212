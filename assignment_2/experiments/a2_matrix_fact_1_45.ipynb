{
  "cells": [
    {
      "cell_type": "markdown",
      "metadata": {
        "id": "7nAqfB232Ma4"
      },
      "source": [
        "# Load Data"
      ]
    },
    {
      "cell_type": "code",
      "execution_count": null,
      "metadata": {
        "colab": {
          "base_uri": "https://localhost:8080/"
        },
        "id": "M3aNhJMOrBiE",
        "outputId": "5d593558-c837-49c2-dd56-39530ab32081"
      },
      "outputs": [
        {
          "name": "stdout",
          "output_type": "stream",
          "text": [
            "Mounted at /content/gdrive\n",
            "/content/gdrive/MyDrive/dataset/DSA4212/assignment_2\n"
          ]
        }
      ],
      "source": [
        "from google.colab import drive\n",
        "drive.mount('/content/gdrive')\n",
        "%cd /content/gdrive/MyDrive/dataset/DSA4212/assignment_2/"
      ]
    },
    {
      "cell_type": "code",
      "execution_count": null,
      "metadata": {
        "button": false,
        "deletable": true,
        "id": "vrPfRJQxe4UZ",
        "new_sheet": false,
        "run_control": {
          "read_only": false
        },
        "tags": []
      },
      "outputs": [],
      "source": [
        "import jax \n",
        "import jax.numpy as jnp\n",
        "import optax\n",
        "\n",
        "from jax.config import config\n",
        "config.update('jax_enable_x64', True)  # often needed for LBFGS that requires high-precision"
      ]
    },
    {
      "cell_type": "code",
      "execution_count": null,
      "metadata": {
        "id": "W0DIKDO-Q-0e"
      },
      "outputs": [],
      "source": [
        "import matplotlib.pyplot as plt\n",
        "import numpy as onp\n",
        "import pandas as pd\n",
        "import scipy\n",
        "import tqdm"
      ]
    },
    {
      "cell_type": "code",
      "execution_count": null,
      "metadata": {
        "id": "7cKh9GWuEWK7"
      },
      "outputs": [],
      "source": [
        "onp.random.seed(123)"
      ]
    },
    {
      "cell_type": "code",
      "execution_count": null,
      "metadata": {
        "id": "heUXXs-2rd2Z"
      },
      "outputs": [],
      "source": [
        "anime = pd.read_csv(\"assignment_2_anime.csv\")\n",
        "train = pd.read_csv(\"assignment_2_ratings_train.csv\")\n",
        "test = pd.read_csv(\"assignment_2_ratings_test.csv\")"
      ]
    },
    {
      "cell_type": "code",
      "execution_count": null,
      "metadata": {
        "button": false,
        "deletable": true,
        "id": "uEj74Ocme4Uc",
        "new_sheet": false,
        "run_control": {
          "read_only": false
        },
        "tags": []
      },
      "outputs": [],
      "source": [
        "u_list = onp.array(train[\"user_id\"].map(lambda x: x-1))\n",
        "f_list = onp.array(train[\"anime_id\"].map(lambda x: x-1))\n",
        "ratings_list= onp.array(train[\"rating\"])"
      ]
    },
    {
      "cell_type": "code",
      "execution_count": null,
      "metadata": {
        "id": "zyfHGvwqEj0g"
      },
      "outputs": [],
      "source": [
        "u_test = onp.array(test[\"user_id\"].map(lambda x: x-1))\n",
        "f_test = onp.array(test[\"anime_id\"].map(lambda x: x-1))\n",
        "ratings_test= onp.array(test[\"rating\"])"
      ]
    },
    {
      "cell_type": "code",
      "execution_count": null,
      "metadata": {
        "id": "9sUPWjVrEhzu"
      },
      "outputs": [],
      "source": [
        "p = u_list.max() + 1\n",
        "q = f_list.max() + 1\n",
        "r = 50"
      ]
    },
    {
      "cell_type": "markdown",
      "metadata": {
        "button": false,
        "deletable": true,
        "id": "LXPxqjmMe4Ub",
        "new_sheet": false,
        "run_control": {
          "read_only": false
        }
      },
      "source": [
        "# Factor Model\n"
      ]
    },
    {
      "cell_type": "code",
      "execution_count": null,
      "metadata": {
        "id": "d4BopG5N6Uba"
      },
      "outputs": [],
      "source": [
        "def factor_model(U, V):\n",
        "  \"\"\"\n",
        "  U -- (p, r) -- factors of the p users\n",
        "  V -- (q, r) -- factors of the q films\n",
        "  \"\"\"\n",
        "  predictions = jnp.sum( U[u_list.astype(int)] * V[f_list.astype(int)], axis=1)\n",
        "  MSE = jnp.mean( (predictions - ratings_list)**2 )\n",
        "  return MSE\n",
        "\n",
        "factor_model_grad_U = jax.jit( jax.value_and_grad(factor_model, argnums=0) )\n",
        "factor_model_grad_V = jax.jit( jax.value_and_grad(factor_model, argnums=1) )"
      ]
    },
    {
      "cell_type": "code",
      "execution_count": null,
      "metadata": {
        "id": "pRdBWKVavAA7"
      },
      "outputs": [],
      "source": [
        "U_init = onp.random.normal(0,1/(r**0.5), size=(p,r))\n",
        "V_init = onp.random.normal(0,1/(r**0.5), size=(q,r))"
      ]
    },
    {
      "cell_type": "markdown",
      "metadata": {
        "id": "kJsdfqG43ig7"
      },
      "source": [
        "### Using Adam Optimizer"
      ]
    },
    {
      "cell_type": "code",
      "execution_count": null,
      "metadata": {
        "id": "xymA3-a8n1Dr"
      },
      "outputs": [],
      "source": [
        "U = jnp.copy(U_init)\n",
        "V = jnp.copy(V_init)\n",
        "factor_loss_traj = []\n",
        "\n",
        "optimizer_U = optax.adam(learning_rate=0.05, eps=0.001)\n",
        "optimizer_V = optax.adam(learning_rate=0.05, eps=0.001)\n",
        "opt_state_U = optimizer_U.init(U)\n",
        "opt_state_V = optimizer_V.init(V)\n",
        "for i in range(1700):\n",
        "    loss_U, gradients_U = factor_model_grad_U(U, V)\n",
        "    loss_V, gradients_V = factor_model_grad_V(U, V)\n",
        "\n",
        "    ## Update Weights\n",
        "    updates_U, opt_state_U = optimizer_U.update(gradients_U, opt_state_U)\n",
        "    updates_V, opt_state_V = optimizer_V.update(gradients_V, opt_state_V)\n",
        "    U = optax.apply_updates(U, updates_U)\n",
        "    V = optax.apply_updates(V, updates_V)\n",
        "\n",
        "    loss = factor_model(U, V)\n",
        "    factor_loss_traj.append(loss)\n",
        "    #print(f\"Training MSE: {loss}\")\n",
        "\n",
        "    predictions = jnp.sum( U[u_test.astype(int)] * V[f_test.astype(int)], axis=1)\n",
        "    test_loss = jnp.mean( (predictions - ratings_test)**2 )\n",
        "    #print(f\"Test MSE: {test_loss}\")"
      ]
    },
    {
      "cell_type": "code",
      "execution_count": null,
      "metadata": {
        "colab": {
          "base_uri": "https://localhost:8080/",
          "height": 447
        },
        "id": "WuKIAHW132qP",
        "outputId": "6386db18-0578-42bc-f8a2-4a26dada0fb9"
      },
      "outputs": [
        {
          "data": {
            "text/plain": [
              "[<matplotlib.lines.Line2D at 0x7f2f4ed6f070>]"
            ]
          },
          "execution_count": 12,
          "metadata": {},
          "output_type": "execute_result"
        },
        {
          "data": {
            "image/png": "[encoded data removed]",
            "text/plain": [
              "<Figure size 640x480 with 1 Axes>"
            ]
          },
          "metadata": {},
          "output_type": "display_data"
        }
      ],
      "source": [
        "plt.plot(factor_loss_traj)"
      ]
    },
    {
      "cell_type": "code",
      "execution_count": null,
      "metadata": {
        "colab": {
          "base_uri": "https://localhost:8080/",
          "height": 36
        },
        "id": "-ZYXdoH837D0",
        "outputId": "c262ddae-35bb-4757-b125-8260be120e09"
      },
      "outputs": [
        {
          "data": {
            "application/vnd.google.colaboratory.intrinsic+json": {
              "type": "string"
            },
            "text/plain": [
              "'Factor Model Train MSE: 0.9631941501441397'"
            ]
          },
          "execution_count": 13,
          "metadata": {},
          "output_type": "execute_result"
        }
      ],
      "source": [
        "factor_predictions_train = jnp.sum( U[u_list.astype(int)] * V[f_list.astype(int)], axis=1)\n",
        "factor_mse_train = jnp.mean( (factor_predictions_train - ratings_list)**2 )\n",
        "f\"Factor Model Train MSE: {factor_mse_train}\""
      ]
    },
    {
      "cell_type": "code",
      "execution_count": null,
      "metadata": {
        "colab": {
          "base_uri": "https://localhost:8080/",
          "height": 36
        },
        "id": "vcquhRX137D2",
        "outputId": "b9a8c5d3-5680-4610-d1b4-13bbb4ac0f1a"
      },
      "outputs": [
        {
          "data": {
            "application/vnd.google.colaboratory.intrinsic+json": {
              "type": "string"
            },
            "text/plain": [
              "'Factor Model Test MSE: 1.492808406123175'"
            ]
          },
          "execution_count": 14,
          "metadata": {},
          "output_type": "execute_result"
        }
      ],
      "source": [
        "factor_predictions_test = jnp.sum( U[u_test.astype(int)] * V[f_test.astype(int)], axis=1)\n",
        "factor_mse_test = jnp.mean( (factor_predictions_test - ratings_test)**2 )\n",
        "f\"Factor Model Test MSE: {factor_mse_test}\""
      ]
    },
    {
      "cell_type": "markdown",
      "metadata": {
        "id": "ak_KE15a3uJW"
      },
      "source": [
        "### Using Gradient Descent"
      ]
    },
    {
      "cell_type": "code",
      "execution_count": null,
      "metadata": {
        "id": "GXmmCj-9Enyd"
      },
      "outputs": [],
      "source": [
        "def factor_eta(i):\n",
        "    if i < 10:\n",
        "        return 400\n",
        "    elif i < 15:\n",
        "        return 150\n",
        "    elif i < 100:\n",
        "        return 100\n",
        "    else:\n",
        "        return 50"
      ]
    },
    {
      "cell_type": "code",
      "execution_count": null,
      "metadata": {
        "id": "X8qHq9RTwG4b"
      },
      "outputs": [],
      "source": [
        "# Gradient descent\n",
        "niter = 1575\n",
        "factor_loss_traj = []\n",
        "\n",
        "U_gd = jnp.copy(U_init)\n",
        "V_gd = jnp.copy(V_init)\n",
        "\n",
        "for i in tqdm.tqdm(range(niter)):\n",
        "    # compute my gradients\n",
        "    loss_u, gradients_u = factor_model_grad_U(U_gd,V_gd)\n",
        "    loss_v, gradients_v = factor_model_grad_V(U_gd,V_gd)\n",
        "\n",
        "    # do the GD update\n",
        "    U_gd = U_gd - factor_eta(i) * gradients_u\n",
        "    V_gd = V_gd - factor_eta(i) * gradients_v\n",
        "\n",
        "    # monitor the loss\n",
        "    loss = factor_model(U_gd, V_gd)\n",
        "    #print(f\"Training MSE: {loss}\")\n",
        "    factor_loss_traj.append( loss )\n",
        "\n",
        "    predictions = jnp.sum( U_gd[u_test.astype(int)] * V_gd[f_test.astype(int)], axis=1)\n",
        "    test_loss = jnp.mean( (predictions - ratings_test)**2 )\n",
        "    #print(f\"Test MSE: {test_loss}\")"
      ]
    },
    {
      "cell_type": "code",
      "execution_count": null,
      "metadata": {
        "colab": {
          "base_uri": "https://localhost:8080/",
          "height": 447
        },
        "id": "ZMW8Ww-uE0EU",
        "outputId": "a69497cf-95cf-4702-c5c2-791652b66f39"
      },
      "outputs": [
        {
          "data": {
            "text/plain": [
              "[<matplotlib.lines.Line2D at 0x7f2f49cb2760>]"
            ]
          },
          "execution_count": 17,
          "metadata": {},
          "output_type": "execute_result"
        },
        {
          "data": {
            "image/png": "[encoded data removed]",
            "text/plain": [
              "<Figure size 640x480 with 1 Axes>"
            ]
          },
          "metadata": {},
          "output_type": "display_data"
        }
      ],
      "source": [
        "plt.plot(factor_loss_traj)"
      ]
    },
    {
      "cell_type": "code",
      "execution_count": null,
      "metadata": {
        "colab": {
          "base_uri": "https://localhost:8080/",
          "height": 36
        },
        "id": "Mb7YzQbbGToi",
        "outputId": "e6a4a17b-0bd5-4cf2-e291-96f016573877"
      },
      "outputs": [
        {
          "data": {
            "application/vnd.google.colaboratory.intrinsic+json": {
              "type": "string"
            },
            "text/plain": [
              "'Factor Model Train MSE: 0.9393881929393854'"
            ]
          },
          "execution_count": 18,
          "metadata": {},
          "output_type": "execute_result"
        }
      ],
      "source": [
        "factor_predictions_gd_train = jnp.sum( U_gd[u_list.astype(int)] * V_gd[f_list.astype(int)], axis=1)\n",
        "factor_mse_gd_train = jnp.mean( (factor_predictions_gd_train - ratings_list)**2 )\n",
        "f\"Factor Model Train MSE: {factor_mse_gd_train}\""
      ]
    },
    {
      "cell_type": "code",
      "execution_count": null,
      "metadata": {
        "colab": {
          "base_uri": "https://localhost:8080/",
          "height": 36
        },
        "id": "S_1z7Nli5-OX",
        "outputId": "9e7059f6-4630-4292-81af-db2750f101e3"
      },
      "outputs": [
        {
          "data": {
            "application/vnd.google.colaboratory.intrinsic+json": {
              "type": "string"
            },
            "text/plain": [
              "'Factor Model Test MSE: 1.4985977639167727'"
            ]
          },
          "execution_count": 19,
          "metadata": {},
          "output_type": "execute_result"
        }
      ],
      "source": [
        "factor_predictions_gd_test = jnp.sum( U_gd[u_test.astype(int)] * V_gd[f_test.astype(int)], axis=1)\n",
        "factor_mse_gd_test = jnp.mean( (factor_predictions_gd_test - ratings_test)**2 )\n",
        "f\"Factor Model Test MSE: {factor_mse_gd_test}\""
      ]
    },
    {
      "cell_type": "markdown",
      "metadata": {
        "id": "wKRIaps_97VB"
      },
      "source": [
        "# Residual Model"
      ]
    },
    {
      "cell_type": "markdown",
      "metadata": {
        "id": "jY9xdXKN5HxW"
      },
      "source": [
        "### GD Factor Model"
      ]
    },
    {
      "cell_type": "code",
      "execution_count": null,
      "metadata": {
        "colab": {
          "base_uri": "https://localhost:8080/"
        },
        "id": "RBpi-1rh6AmU",
        "outputId": "d54b0d29-29c2-4eb4-8fea-d4c7176a6b2b"
      },
      "outputs": [
        {
          "data": {
            "text/plain": [
              "Array([ 0.34476696, -1.93264718, -0.22698183, ...,  0.80424922,\n",
              "       -0.59656714,  1.15109408], dtype=float64)"
            ]
          },
          "execution_count": 75,
          "metadata": {},
          "output_type": "execute_result"
        }
      ],
      "source": [
        "residuals_gd_train = ratings_list - factor_predictions_gd_train\n",
        "residuals_gd_train"
      ]
    },
    {
      "cell_type": "code",
      "execution_count": null,
      "metadata": {
        "colab": {
          "base_uri": "https://localhost:8080/"
        },
        "id": "grIFryeU-6rN",
        "outputId": "2b651a90-a68e-4b41-a52f-7cba27974384"
      },
      "outputs": [
        {
          "data": {
            "text/plain": [
              "Array([-3.15162504, -0.14237348, -0.84728997, ...,  0.57632309,\n",
              "        0.49132828,  0.35056769], dtype=float64)"
            ]
          },
          "execution_count": 76,
          "metadata": {},
          "output_type": "execute_result"
        }
      ],
      "source": [
        "residuals_gd_test = ratings_test - factor_predictions_gd_test\n",
        "residuals_gd_test"
      ]
    },
    {
      "cell_type": "code",
      "execution_count": null,
      "metadata": {
        "id": "s9xvnN7I4uy9"
      },
      "outputs": [],
      "source": [
        "def residual_gd_model(P, Q):\n",
        "  \"\"\"\n",
        "  P -- (p, r) -- factors of the p users\n",
        "  Q -- (q, r) -- factors of the q films\n",
        "  \"\"\"\n",
        "  predictions = jnp.sum( P[u_list.astype(int)] * Q[f_list.astype(int)], axis=1)\n",
        "  MSE = jnp.mean( (predictions - residuals_gd_train)**2 )\n",
        "  return MSE\n",
        "\n",
        "residual_gd_model_grad_P = jax.jit( jax.value_and_grad(residual_gd_model, argnums=0) )\n",
        "residual_gd_model_grad_Q = jax.jit( jax.value_and_grad(residual_gd_model, argnums=1) )"
      ]
    },
    {
      "cell_type": "markdown",
      "metadata": {
        "id": "YAe9AdfapEga"
      },
      "source": [
        "Using Adam Optimizer"
      ]
    },
    {
      "cell_type": "code",
      "execution_count": null,
      "metadata": {
        "id": "kipC_OBa5_ye"
      },
      "outputs": [],
      "source": [
        "P = jnp.copy(U_init)\n",
        "Q = jnp.copy(V_init)\n",
        "residual_loss_traj = []\n",
        "\n",
        "optimizer_P = optax.adam(learning_rate=0.01, eps=0.001)\n",
        "optimizer_Q = optax.adam(learning_rate=0.01, eps=0.001)\n",
        "opt_state_P = optimizer_P.init(P)\n",
        "opt_state_Q = optimizer_Q.init(Q)\n",
        "for i in range(1700):\n",
        "    loss_P, gradients_P = residual_gd_model_grad_P(P, Q)\n",
        "    loss_Q, gradients_Q = residual_gd_model_grad_Q(P, Q)\n",
        "\n",
        "    ## Update Weights\n",
        "    updates_P, opt_state_P = optimizer_P.update(gradients_P, opt_state_P)\n",
        "    updates_Q, opt_state_Q = optimizer_Q.update(gradients_Q, opt_state_Q)\n",
        "    P = optax.apply_updates(P, updates_P)\n",
        "    Q = optax.apply_updates(Q, updates_Q)\n",
        "\n",
        "    loss = residual_gd_model(P, Q)\n",
        "    residual_loss_traj.append(loss)\n",
        "    #print(f\"Training MSE: {loss}\")\n",
        "\n",
        "    predictions = jnp.sum( P[u_test.astype(int)] * Q[f_test.astype(int)], axis=1)\n",
        "    test_loss = jnp.mean( (predictions - residuals_gd_test)**2 )\n",
        "    #print(f\"Test MSE: {test_loss}\")"
      ]
    },
    {
      "cell_type": "code",
      "execution_count": null,
      "metadata": {
        "colab": {
          "base_uri": "https://localhost:8080/",
          "height": 449
        },
        "id": "GkPV3j447nuN",
        "outputId": "c2cf2f51-2288-470b-fe29-a88eb3083da3"
      },
      "outputs": [
        {
          "data": {
            "text/plain": [
              "[<matplotlib.lines.Line2D at 0x7f2f3bd72a60>]"
            ]
          },
          "execution_count": 84,
          "metadata": {},
          "output_type": "execute_result"
        },
        {
          "data": {
            "image/png": "[encoded data removed]",
            "text/plain": [
              "<Figure size 640x480 with 1 Axes>"
            ]
          },
          "metadata": {},
          "output_type": "display_data"
        }
      ],
      "source": [
        "plt.plot(residual_loss_traj)"
      ]
    },
    {
      "cell_type": "code",
      "execution_count": null,
      "metadata": {
        "colab": {
          "base_uri": "https://localhost:8080/",
          "height": 36
        },
        "id": "N1qnBc317nuP",
        "outputId": "3715dcb8-b5cd-49e7-8832-2c2ce534fadf"
      },
      "outputs": [
        {
          "data": {
            "application/vnd.google.colaboratory.intrinsic+json": {
              "type": "string"
            },
            "text/plain": [
              "'Residual Model Train MSE: 0.950877113560445'"
            ]
          },
          "execution_count": 85,
          "metadata": {},
          "output_type": "execute_result"
        }
      ],
      "source": [
        "residual_predictions_train = jnp.sum( U[u_list.astype(int)] * V[f_list.astype(int)], axis=1) + jnp.sum( P[u_list.astype(int)] * Q[f_list.astype(int)], axis=1)\n",
        "residual_mse_train = jnp.mean( (residual_predictions_train - ratings_list)**2 )\n",
        "f\"Residual Model Train MSE: {residual_mse_train}\""
      ]
    },
    {
      "cell_type": "code",
      "execution_count": null,
      "metadata": {
        "colab": {
          "base_uri": "https://localhost:8080/",
          "height": 36
        },
        "id": "KJkYKyaf7nuP",
        "outputId": "15ee6ade-c560-4a7f-e29c-501a73207da2"
      },
      "outputs": [
        {
          "data": {
            "application/vnd.google.colaboratory.intrinsic+json": {
              "type": "string"
            },
            "text/plain": [
              "'Residual Model Test MSE: 1.4866574473832723'"
            ]
          },
          "execution_count": 86,
          "metadata": {},
          "output_type": "execute_result"
        }
      ],
      "source": [
        "residual_predictions_test = jnp.sum( U[u_test.astype(int)] * V[f_test.astype(int)], axis=1) + jnp.sum( P[u_test.astype(int)] * Q[f_test.astype(int)], axis=1)\n",
        "residual_mse_test = jnp.mean( (residual_predictions_test - ratings_test)**2 )\n",
        "f\"Residual Model Test MSE: {residual_mse_test}\""
      ]
    },
    {
      "cell_type": "markdown",
      "metadata": {
        "id": "qaditCP37onq"
      },
      "source": [
        "Using Gradient Descent"
      ]
    },
    {
      "cell_type": "code",
      "execution_count": null,
      "metadata": {
        "id": "k7LNkYx_RprY"
      },
      "outputs": [],
      "source": [
        "def residual_eta(i):\n",
        "    if i < 10:\n",
        "        return 400\n",
        "    elif i < 350:\n",
        "        return 150\n",
        "    elif i < 400:\n",
        "        return 100\n",
        "    else:\n",
        "        return 50"
      ]
    },
    {
      "cell_type": "code",
      "execution_count": null,
      "metadata": {
        "id": "bI5zG0bl6XEX"
      },
      "outputs": [],
      "source": [
        "# Gradient descent\n",
        "niter = 415\n",
        "residual_loss_traj = []\n",
        "\n",
        "P_gd = jnp.copy(U_init)\n",
        "Q_gd = jnp.copy(V_init)\n",
        "\n",
        "for i in tqdm.tqdm(range(niter)):\n",
        "    # compute my gradients\n",
        "    loss_p, gradients_p = residual_gd_model_grad_P(P_gd, Q_gd)\n",
        "    loss_q, gradients_q = residual_gd_model_grad_Q(P_gd, Q_gd)\n",
        "\n",
        "    # do the GD update\n",
        "    P_gd = P_gd - residual_eta(i) * gradients_p\n",
        "    Q_gd = Q_gd - residual_eta(i) * gradients_q\n",
        "\n",
        "    # monitor the loss\n",
        "    loss = residual_gd_model(P_gd,Q_gd)\n",
        "    #print(f\"Training MSE: {loss}\")\n",
        "    residual_loss_traj.append( loss )\n",
        "\n",
        "    predictions = jnp.sum( P_gd[u_test.astype(int)] * Q_gd[f_test.astype(int)], axis=1)\n",
        "    test_loss = jnp.mean( (predictions - residuals_gd_test)**2 )\n",
        "    #print(f\"Test MSE: {test_loss}\")"
      ]
    },
    {
      "cell_type": "code",
      "execution_count": null,
      "metadata": {
        "colab": {
          "base_uri": "https://localhost:8080/",
          "height": 447
        },
        "id": "1Zz4yf6_PaiG",
        "outputId": "eef7f076-ac8c-4bd0-b770-7fafd9aba1db"
      },
      "outputs": [
        {
          "data": {
            "text/plain": [
              "[<matplotlib.lines.Line2D at 0x7f2f3bdb5130>]"
            ]
          },
          "execution_count": 89,
          "metadata": {},
          "output_type": "execute_result"
        },
        {
          "data": {
            "image/png": "[encoded data removed]",
            "text/plain": [
              "<Figure size 640x480 with 1 Axes>"
            ]
          },
          "metadata": {},
          "output_type": "display_data"
        }
      ],
      "source": [
        "plt.plot(residual_loss_traj)"
      ]
    },
    {
      "cell_type": "code",
      "execution_count": null,
      "metadata": {
        "colab": {
          "base_uri": "https://localhost:8080/",
          "height": 36
        },
        "id": "U3l1Q0Uu_0iz",
        "outputId": "6a057dba-67e2-4799-8b62-4c0a71b5f4da"
      },
      "outputs": [
        {
          "data": {
            "application/vnd.google.colaboratory.intrinsic+json": {
              "type": "string"
            },
            "text/plain": [
              "'Residual Model Train MSE: 0.8725931740715321'"
            ]
          },
          "execution_count": 90,
          "metadata": {},
          "output_type": "execute_result"
        }
      ],
      "source": [
        "residual_predictions_gd_train = jnp.sum( U[u_list.astype(int)] * V[f_list.astype(int)], axis=1) + jnp.sum( P_gd[u_list.astype(int)] * Q_gd[f_list.astype(int)], axis=1)\n",
        "residual_mse_gd_train = jnp.mean( (residual_predictions_gd_train - ratings_list)**2 )\n",
        "f\"Residual Model Train MSE: {residual_mse_gd_train}\""
      ]
    },
    {
      "cell_type": "code",
      "execution_count": null,
      "metadata": {
        "colab": {
          "base_uri": "https://localhost:8080/",
          "height": 36
        },
        "id": "e2TyG4nvAUm_",
        "outputId": "5ef01cd7-ac58-49b6-9fc2-a46c07dba447"
      },
      "outputs": [
        {
          "data": {
            "application/vnd.google.colaboratory.intrinsic+json": {
              "type": "string"
            },
            "text/plain": [
              "'Residual Model Test MSE: 1.461798925691172'"
            ]
          },
          "execution_count": 91,
          "metadata": {},
          "output_type": "execute_result"
        }
      ],
      "source": [
        "residual_predictions_gd_test = jnp.sum( U[u_test.astype(int)] * V[f_test.astype(int)], axis=1) + jnp.sum( P_gd[u_test.astype(int)] * Q_gd[f_test.astype(int)], axis=1)\n",
        "residual_mse_gd_test = jnp.mean( (residual_predictions_gd_test - ratings_test)**2 )\n",
        "f\"Residual Model Test MSE: {residual_mse_gd_test}\""
      ]
    },
    {
      "cell_type": "markdown",
      "metadata": {
        "id": "Do0jg3vfp4dj"
      },
      "source": [
        "### Adam Factor Model"
      ]
    },
    {
      "cell_type": "code",
      "execution_count": null,
      "metadata": {
        "colab": {
          "base_uri": "https://localhost:8080/"
        },
        "id": "yuHtLl4tmwPC",
        "outputId": "81405d48-a5b2-4f7b-b6ed-c021ff005fa3"
      },
      "outputs": [
        {
          "data": {
            "text/plain": [
              "Array([ 0.29049513, -2.00953873, -0.22571931, ...,  0.66615625,\n",
              "       -0.53912793,  1.06797039], dtype=float64)"
            ]
          },
          "execution_count": 92,
          "metadata": {},
          "output_type": "execute_result"
        }
      ],
      "source": [
        "residuals_train = ratings_list - factor_predictions_train\n",
        "residuals_train"
      ]
    },
    {
      "cell_type": "code",
      "execution_count": null,
      "metadata": {
        "colab": {
          "base_uri": "https://localhost:8080/"
        },
        "id": "cCYMg-1dp7RK",
        "outputId": "04b3e9c6-5778-4a1f-b375-0c0e2da7465c"
      },
      "outputs": [
        {
          "data": {
            "text/plain": [
              "Array([-3.15433741, -0.18874858, -0.81660759, ...,  0.52947334,\n",
              "        0.43859966,  0.30577956], dtype=float64)"
            ]
          },
          "execution_count": 93,
          "metadata": {},
          "output_type": "execute_result"
        }
      ],
      "source": [
        "residuals_test = ratings_test - factor_predictions_test\n",
        "residuals_test"
      ]
    },
    {
      "cell_type": "code",
      "execution_count": null,
      "metadata": {
        "id": "WfWBqZPRqcph"
      },
      "outputs": [],
      "source": [
        "def residual_model(P, Q):\n",
        "  \"\"\"\n",
        "  P -- (p, r) -- factors of the p users\n",
        "  Q -- (q, r) -- factors of the q films\n",
        "  \"\"\"\n",
        "  predictions = jnp.sum( P[u_list.astype(int)] * Q[f_list.astype(int)], axis=1)\n",
        "  MSE = jnp.mean( (predictions - residuals_train)**2 )\n",
        "  return MSE\n",
        "\n",
        "residual_model_grad_P = jax.jit( jax.value_and_grad(residual_model, argnums=0) )\n",
        "residual_model_grad_Q = jax.jit( jax.value_and_grad(residual_model, argnums=1) )"
      ]
    },
    {
      "cell_type": "markdown",
      "metadata": {
        "id": "CdClrKyGqloM"
      },
      "source": [
        "Using Adam Optimizer"
      ]
    },
    {
      "cell_type": "code",
      "execution_count": null,
      "metadata": {
        "id": "wkgvaDeFmuZJ"
      },
      "outputs": [],
      "source": [
        "P = jnp.copy(U_init)\n",
        "Q = jnp.copy(V_init)\n",
        "residual_loss_traj = []\n",
        "\n",
        "optimizer_P = optax.adam(learning_rate=0.01, eps=0.001)\n",
        "optimizer_Q = optax.adam(learning_rate=0.01, eps=0.001)\n",
        "opt_state_P = optimizer_P.init(P)\n",
        "opt_state_Q = optimizer_Q.init(Q)\n",
        "for i in range(1700):\n",
        "    loss_P, gradients_P = residual_model_grad_P(P, Q)\n",
        "    loss_Q, gradients_Q = residual_model_grad_Q(P, Q)\n",
        "\n",
        "    ## Update Weights\n",
        "    updates_P, opt_state_P = optimizer_P.update(gradients_P, opt_state_P)\n",
        "    updates_Q, opt_state_Q = optimizer_Q.update(gradients_Q, opt_state_Q)\n",
        "    P = optax.apply_updates(P, updates_P)\n",
        "    Q = optax.apply_updates(Q, updates_Q)\n",
        "\n",
        "    loss = residual_model(P, Q)\n",
        "    residual_loss_traj.append(loss)\n",
        "    #print(f\"Training MSE: {loss}\")\n",
        "\n",
        "    predictions = jnp.sum( P[u_test.astype(int)] * Q[f_test.astype(int)], axis=1)\n",
        "    test_loss = jnp.mean( (predictions - residuals_test)**2 )\n",
        "    #print(f\"Test MSE: {test_loss}\")"
      ]
    },
    {
      "cell_type": "code",
      "execution_count": null,
      "metadata": {
        "colab": {
          "base_uri": "https://localhost:8080/",
          "height": 36
        },
        "id": "F9QXnGLbq2lm",
        "outputId": "98718497-dead-46b6-8672-7410773e102e"
      },
      "outputs": [
        {
          "data": {
            "application/vnd.google.colaboratory.intrinsic+json": {
              "type": "string"
            },
            "text/plain": [
              "'Residual Model Train MSE: 0.9489265099821185'"
            ]
          },
          "execution_count": 96,
          "metadata": {},
          "output_type": "execute_result"
        }
      ],
      "source": [
        "residual_predictions_train = jnp.sum( U[u_list.astype(int)] * V[f_list.astype(int)], axis=1) + jnp.sum( P[u_list.astype(int)] * Q[f_list.astype(int)], axis=1)\n",
        "residual_mse_train = jnp.mean( (residual_predictions_train - ratings_list)**2 )\n",
        "f\"Residual Model Train MSE: {residual_mse_train}\""
      ]
    },
    {
      "cell_type": "code",
      "execution_count": null,
      "metadata": {
        "colab": {
          "base_uri": "https://localhost:8080/",
          "height": 36
        },
        "id": "7KSfr7YXq2ln",
        "outputId": "1de382fd-6bd9-4491-f800-abf6f8f22baf"
      },
      "outputs": [
        {
          "data": {
            "application/vnd.google.colaboratory.intrinsic+json": {
              "type": "string"
            },
            "text/plain": [
              "'Residual Model Test MSE: 1.484547028266396'"
            ]
          },
          "execution_count": 97,
          "metadata": {},
          "output_type": "execute_result"
        }
      ],
      "source": [
        "residual_predictions_test = jnp.sum( U[u_test.astype(int)] * V[f_test.astype(int)], axis=1) + jnp.sum( P[u_test.astype(int)] * Q[f_test.astype(int)], axis=1)\n",
        "residual_mse_test = jnp.mean( (residual_predictions_test - ratings_test)**2 )\n",
        "f\"Residual Model Test MSE: {residual_mse_test}\""
      ]
    },
    {
      "cell_type": "markdown",
      "metadata": {
        "id": "JinNyphHrArx"
      },
      "source": [
        "Using Gradient Descent"
      ]
    },
    {
      "cell_type": "code",
      "execution_count": null,
      "metadata": {
        "id": "q8Xvz4Nvq2ln"
      },
      "outputs": [],
      "source": [
        "def residual_eta(i):\n",
        "    if i < 10:\n",
        "        return 400\n",
        "    elif i < 350:\n",
        "        return 150\n",
        "    elif i < 400:\n",
        "        return 100\n",
        "    else:\n",
        "        return 50"
      ]
    },
    {
      "cell_type": "code",
      "execution_count": null,
      "metadata": {
        "id": "sj-ancdaq2ln"
      },
      "outputs": [],
      "source": [
        "# Gradient descent\n",
        "niter = 415\n",
        "residual_loss_traj = []\n",
        "\n",
        "P_gd = jnp.copy(U_init)\n",
        "Q_gd = jnp.copy(V_init)\n",
        "\n",
        "for i in tqdm.tqdm(range(niter)):\n",
        "    # compute my gradients\n",
        "    loss_p, gradients_p = residual_model_grad_P(P_gd, Q_gd)\n",
        "    loss_q, gradients_q = residual_model_grad_Q(P_gd, Q_gd)\n",
        "\n",
        "    # do the GD update\n",
        "    P_gd = P_gd - residual_eta(i) * gradients_p\n",
        "    Q_gd = Q_gd - residual_eta(i) * gradients_q\n",
        "\n",
        "    # monitor the loss\n",
        "    loss = residual_model(P_gd,Q_gd)\n",
        "    #print(f\"Training MSE: {loss}\")\n",
        "    residual_loss_traj.append( loss )\n",
        "\n",
        "    predictions = jnp.sum( P_gd[u_test.astype(int)] * Q_gd[f_test.astype(int)], axis=1)\n",
        "    test_loss = jnp.mean( (predictions - residuals_test)**2 )\n",
        "    #print(f\"Test MSE: {test_loss}\")"
      ]
    },
    {
      "cell_type": "code",
      "execution_count": null,
      "metadata": {
        "colab": {
          "base_uri": "https://localhost:8080/",
          "height": 447
        },
        "id": "voA_YxK8q2lo",
        "outputId": "e86c83b2-84d9-4b09-96ee-6852664b34dc"
      },
      "outputs": [
        {
          "data": {
            "text/plain": [
              "[<matplotlib.lines.Line2D at 0x7f2f3bcab220>]"
            ]
          },
          "execution_count": 100,
          "metadata": {},
          "output_type": "execute_result"
        },
        {
          "data": {
            "image/png": "[encoded data removed]",
            "text/plain": [
              "<Figure size 640x480 with 1 Axes>"
            ]
          },
          "metadata": {},
          "output_type": "display_data"
        }
      ],
      "source": [
        "plt.plot(residual_loss_traj)"
      ]
    },
    {
      "cell_type": "code",
      "execution_count": null,
      "metadata": {
        "colab": {
          "base_uri": "https://localhost:8080/",
          "height": 36
        },
        "id": "kCgScpSbq2lo",
        "outputId": "3b560323-4f6a-47bf-eeb7-e4aeaa0d545a"
      },
      "outputs": [
        {
          "data": {
            "application/vnd.google.colaboratory.intrinsic+json": {
              "type": "string"
            },
            "text/plain": [
              "'Residual Model Train MSE: 0.8667980249563084'"
            ]
          },
          "execution_count": 101,
          "metadata": {},
          "output_type": "execute_result"
        }
      ],
      "source": [
        "residual_predictions_gd_train = jnp.sum( U[u_list.astype(int)] * V[f_list.astype(int)], axis=1) + jnp.sum( P_gd[u_list.astype(int)] * Q_gd[f_list.astype(int)], axis=1)\n",
        "residual_mse_gd_train = jnp.mean( (residual_predictions_gd_train - ratings_list)**2 )\n",
        "f\"Residual Model Train MSE: {residual_mse_gd_train}\""
      ]
    },
    {
      "cell_type": "code",
      "execution_count": null,
      "metadata": {
        "colab": {
          "base_uri": "https://localhost:8080/",
          "height": 36
        },
        "id": "gNA7WtRfq2lo",
        "outputId": "f241595b-7314-437f-8634-c072363a1ed3"
      },
      "outputs": [
        {
          "data": {
            "application/vnd.google.colaboratory.intrinsic+json": {
              "type": "string"
            },
            "text/plain": [
              "'Residual Model Test MSE: 1.457336706415433'"
            ]
          },
          "execution_count": 102,
          "metadata": {},
          "output_type": "execute_result"
        }
      ],
      "source": [
        "residual_predictions_gd_test = jnp.sum( U[u_test.astype(int)] * V[f_test.astype(int)], axis=1) + jnp.sum( P_gd[u_test.astype(int)] * Q_gd[f_test.astype(int)], axis=1)\n",
        "residual_mse_gd_test = jnp.mean( (residual_predictions_gd_test - ratings_test)**2 )\n",
        "f\"Residual Model Test MSE: {residual_mse_gd_test}\""
      ]
    }
  ],
  "metadata": {
    "accelerator": "GPU",
    "colab": {
      "provenance": []
    },
    "gpuClass": "standard",
    "kernelspec": {
      "display_name": "Python 3 (ipykernel)",
      "language": "python",
      "name": "python3"
    },
    "language_info": {
      "codemirror_mode": {
        "name": "ipython",
        "version": 3
      },
      "file_extension": ".py",
      "mimetype": "text/x-python",
      "name": "python",
      "nbconvert_exporter": "python",
      "pygments_lexer": "ipython3",
      "version": "3.8.12"
    }
  },
  "nbformat": 4,
  "nbformat_minor": 0
}