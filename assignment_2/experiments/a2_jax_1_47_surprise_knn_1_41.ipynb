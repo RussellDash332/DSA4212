{
  "cells": [
    {
      "cell_type": "markdown",
      "metadata": {
        "id": "-IUkX253q_IH"
      },
      "source": [
        "# DSA4212 Assignment 2\n",
        "**CAA: 7 April 2023**"
      ]
    },
    {
      "cell_type": "markdown",
      "metadata": {
        "id": "Doep--T0rWFE"
      },
      "source": [
        "## Imports"
      ]
    },
    {
      "cell_type": "code",
      "execution_count": 1,
      "metadata": {
        "colab": {
          "base_uri": "https://localhost:8080/"
        },
        "id": "Cn-tp7HGrpDT",
        "outputId": "15430f08-0924-4e98-a744-f63f5dfef833"
      },
      "outputs": [
        {
          "name": "stdout",
          "output_type": "stream",
          "text": [
            "Looking in indexes: https://pypi.org/simple, https://us-python.pkg.dev/colab-wheels/public/simple/\n",
            "Requirement already satisfied: jaxopt in /usr/local/lib/python3.9/dist-packages (0.6)\n",
            "Requirement already satisfied: surprise in /usr/local/lib/python3.9/dist-packages (0.1)\n",
            "Requirement already satisfied: jax>=0.2.18 in /usr/local/lib/python3.9/dist-packages (from jaxopt) (0.4.7)\n",
            "Requirement already satisfied: matplotlib>=2.0.1 in /usr/local/lib/python3.9/dist-packages (from jaxopt) (3.7.1)\n",
            "Requirement already satisfied: numpy>=1.18.4 in /usr/local/lib/python3.9/dist-packages (from jaxopt) (1.22.4)\n",
            "Requirement already satisfied: absl-py>=0.7.0 in /usr/local/lib/python3.9/dist-packages (from jaxopt) (1.4.0)\n",
            "Requirement already satisfied: scipy>=1.0.0 in /usr/local/lib/python3.9/dist-packages (from jaxopt) (1.10.1)\n",
            "Requirement already satisfied: jaxlib>=0.1.69 in /usr/local/lib/python3.9/dist-packages (from jaxopt) (0.4.7+cuda11.cudnn86)\n",
            "Requirement already satisfied: scikit-surprise in /usr/local/lib/python3.9/dist-packages (from surprise) (1.1.3)\n",
            "Requirement already satisfied: opt-einsum in /usr/local/lib/python3.9/dist-packages (from jax>=0.2.18->jaxopt) (3.3.0)\n",
            "Requirement already satisfied: ml-dtypes>=0.0.3 in /usr/local/lib/python3.9/dist-packages (from jax>=0.2.18->jaxopt) (0.0.4)\n",
            "Requirement already satisfied: contourpy>=1.0.1 in /usr/local/lib/python3.9/dist-packages (from matplotlib>=2.0.1->jaxopt) (1.0.7)\n",
            "Requirement already satisfied: pyparsing>=2.3.1 in /usr/local/lib/python3.9/dist-packages (from matplotlib>=2.0.1->jaxopt) (3.0.9)\n",
            "Requirement already satisfied: cycler>=0.10 in /usr/local/lib/python3.9/dist-packages (from matplotlib>=2.0.1->jaxopt) (0.11.0)\n",
            "Requirement already satisfied: python-dateutil>=2.7 in /usr/local/lib/python3.9/dist-packages (from matplotlib>=2.0.1->jaxopt) (2.8.2)\n",
            "Requirement already satisfied: kiwisolver>=1.0.1 in /usr/local/lib/python3.9/dist-packages (from matplotlib>=2.0.1->jaxopt) (1.4.4)\n",
            "Requirement already satisfied: pillow>=6.2.0 in /usr/local/lib/python3.9/dist-packages (from matplotlib>=2.0.1->jaxopt) (8.4.0)\n",
            "Requirement already satisfied: packaging>=20.0 in /usr/local/lib/python3.9/dist-packages (from matplotlib>=2.0.1->jaxopt) (23.0)\n",
            "Requirement already satisfied: importlib-resources>=3.2.0 in /usr/local/lib/python3.9/dist-packages (from matplotlib>=2.0.1->jaxopt) (5.12.0)\n",
            "Requirement already satisfied: fonttools>=4.22.0 in /usr/local/lib/python3.9/dist-packages (from matplotlib>=2.0.1->jaxopt) (4.39.3)\n",
            "Requirement already satisfied: joblib>=1.0.0 in /usr/local/lib/python3.9/dist-packages (from scikit-surprise->surprise) (1.1.1)\n",
            "Requirement already satisfied: zipp>=3.1.0 in /usr/local/lib/python3.9/dist-packages (from importlib-resources>=3.2.0->matplotlib>=2.0.1->jaxopt) (3.15.0)\n",
            "Requirement already satisfied: six>=1.5 in /usr/local/lib/python3.9/dist-packages (from python-dateutil>=2.7->matplotlib>=2.0.1->jaxopt) (1.16.0)\n"
          ]
        }
      ],
      "source": [
        "!pip install jaxopt surprise"
      ]
    },
    {
      "cell_type": "code",
      "execution_count": 2,
      "metadata": {
        "id": "2PUTdpvQqxOT"
      },
      "outputs": [],
      "source": [
        "import os\n",
        "\n",
        "# Suppress warnings\n",
        "import warnings\n",
        "def warn(*args, **kwargs): pass\n",
        "warnings.warn = warn\n",
        "warnings.filterwarnings('ignore')\n",
        "\n",
        "import numpy as onp\n",
        "from tqdm.auto import tqdm\n",
        "import pylab as plt\n",
        "import copy\n",
        "import time\n",
        "from random import sample\n",
        "import random\n",
        "from collections import defaultdict\n",
        "import pandas as pd\n",
        "import jax, jaxopt\n",
        "import jax.numpy as jnp\n",
        "import scipy as sp\n",
        "from sklearn.metrics import mean_squared_error\n",
        "import operator\n",
        "from jax.config import config\n",
        "config.update(\"jax_enable_x64\", True) # for higher accuracy"
      ]
    },
    {
      "cell_type": "code",
      "execution_count": 3,
      "metadata": {
        "colab": {
          "base_uri": "https://localhost:8080/"
        },
        "id": "hZ0A592lrv6x",
        "outputId": "653d3a4d-a29f-4c7a-c6d2-83b1ac091b80"
      },
      "outputs": [
        {
          "name": "stdout",
          "output_type": "stream",
          "text": [
            "GPU 0: Tesla T4 (UUID: GPU-d286ddd2-ec97-dcad-6406-1bab2f24d911)\n",
            "Model name:                      Intel(R) Xeon(R) CPU @ 2.00GHz\n",
            "12G\n"
          ]
        }
      ],
      "source": [
        "if 'google.colab' in str(get_ipython()):\n",
        "    from google.colab import drive\n",
        "\n",
        "    !nvidia-smi -L\n",
        "    !lscpu |grep 'Model name'\n",
        "    !free -h --si | awk  '/Mem:/{print $2}'"
      ]
    },
    {
      "cell_type": "markdown",
      "metadata": {
        "id": "eEuqokhrr1SL"
      },
      "source": [
        "## Load Data\n",
        "Serializes user IDs to `uid2idx` and anime IDs to `aid2idx`"
      ]
    },
    {
      "cell_type": "code",
      "execution_count": 4,
      "metadata": {
        "colab": {
          "base_uri": "https://localhost:8080/"
        },
        "id": "jSLSF0UwsABt",
        "outputId": "87de7ea7-118d-4d10-a990-f6b4e6e3bd88"
      },
      "outputs": [
        {
          "name": "stdout",
          "output_type": "stream",
          "text": [
            "Drive already mounted at /content/drive; to attempt to forcibly remount, call drive.mount(\"/content/drive\", force_remount=True).\n",
            "/content/drive/MyDrive/dataset/DSA4212/assignment_2\n"
          ]
        }
      ],
      "source": [
        "if 'google.colab' in str(get_ipython()):\n",
        "    drive.mount(\"/content/drive\")\n",
        "    %cd /content/drive/MyDrive/dataset/DSA4212/assignment_2/\n",
        "\n",
        "anime = pd.read_csv(\"assignment_2_anime.csv\")\n",
        "train = pd.read_csv(\"assignment_2_ratings_train.csv\")\n",
        "test = pd.read_csv(\"assignment_2_ratings_test.csv\")"
      ]
    },
    {
      "cell_type": "code",
      "execution_count": 5,
      "metadata": {
        "colab": {
          "base_uri": "https://localhost:8080/",
          "height": 206
        },
        "id": "G9WJbtJRzJrT",
        "outputId": "2a44b7c7-90b7-4284-96a7-1147feb1a2f5"
      },
      "outputs": [
        {
          "data": {
            "text/html": [
              "\n",
              "  <div id=\"df-2cfcd607-2eb9-4542-8495-48afd649d0bb\">\n",
              "    <div class=\"colab-df-container\">\n",
              "      <div>\n",
              "<style scoped>\n",
              "    .dataframe tbody tr th:only-of-type {\n",
              "        vertical-align: middle;\n",
              "    }\n",
              "\n",
              "    .dataframe tbody tr th {\n",
              "        vertical-align: top;\n",
              "    }\n",
              "\n",
              "    .dataframe thead th {\n",
              "        text-align: right;\n",
              "    }\n",
              "</style>\n",
              "<table border=\"1\" class=\"dataframe\">\n",
              "  <thead>\n",
              "    <tr style=\"text-align: right;\">\n",
              "      <th></th>\n",
              "      <th>anime_id</th>\n",
              "      <th>sum</th>\n",
              "      <th>len</th>\n",
              "      <th>mean</th>\n",
              "    </tr>\n",
              "  </thead>\n",
              "  <tbody>\n",
              "    <tr>\n",
              "      <th>0</th>\n",
              "      <td>1</td>\n",
              "      <td>82597</td>\n",
              "      <td>9314</td>\n",
              "      <td>8.868048</td>\n",
              "    </tr>\n",
              "    <tr>\n",
              "      <th>1</th>\n",
              "      <td>5</td>\n",
              "      <td>34234</td>\n",
              "      <td>4058</td>\n",
              "      <td>8.436175</td>\n",
              "    </tr>\n",
              "    <tr>\n",
              "      <th>2</th>\n",
              "      <td>6</td>\n",
              "      <td>55853</td>\n",
              "      <td>6629</td>\n",
              "      <td>8.425554</td>\n",
              "    </tr>\n",
              "    <tr>\n",
              "      <th>3</th>\n",
              "      <td>7</td>\n",
              "      <td>11142</td>\n",
              "      <td>1488</td>\n",
              "      <td>7.487903</td>\n",
              "    </tr>\n",
              "    <tr>\n",
              "      <th>4</th>\n",
              "      <td>8</td>\n",
              "      <td>1601</td>\n",
              "      <td>224</td>\n",
              "      <td>7.147321</td>\n",
              "    </tr>\n",
              "  </tbody>\n",
              "</table>\n",
              "</div>\n",
              "      <button class=\"colab-df-convert\" onclick=\"convertToInteractive('df-2cfcd607-2eb9-4542-8495-48afd649d0bb')\"\n",
              "              title=\"Convert this dataframe to an interactive table.\"\n",
              "              style=\"display:none;\">\n",
              "        \n",
              "  <svg xmlns=\"http://www.w3.org/2000/svg\" height=\"24px\"viewBox=\"0 0 24 24\"\n",
              "       width=\"24px\">\n",
              "    <path d=\"M0 0h24v24H0V0z\" fill=\"none\"/>\n",
              "    <path d=\"M18.56 5.44l.94 2.06.94-2.06 2.06-.94-2.06-.94-.94-2.06-.94 2.06-2.06.94zm-11 1L8.5 8.5l.94-2.06 2.06-.94-2.06-.94L8.5 2.5l-.94 2.06-2.06.94zm10 10l.94 2.06.94-2.06 2.06-.94-2.06-.94-.94-2.06-.94 2.06-2.06.94z\"/><path d=\"M17.41 7.96l-1.37-1.37c-.4-.4-.92-.59-1.43-.59-.52 0-1.04.2-1.43.59L10.3 9.45l-7.72 7.72c-.78.78-.78 2.05 0 2.83L4 21.41c.39.39.9.59 1.41.59.51 0 1.02-.2 1.41-.59l7.78-7.78 2.81-2.81c.8-.78.8-2.07 0-2.86zM5.41 20L4 18.59l7.72-7.72 1.47 1.35L5.41 20z\"/>\n",
              "  </svg>\n",
              "      </button>\n",
              "      \n",
              "  <style>\n",
              "    .colab-df-container {\n",
              "      display:flex;\n",
              "      flex-wrap:wrap;\n",
              "      gap: 12px;\n",
              "    }\n",
              "\n",
              "    .colab-df-convert {\n",
              "      background-color: #E8F0FE;\n",
              "      border: none;\n",
              "      border-radius: 50%;\n",
              "      cursor: pointer;\n",
              "      display: none;\n",
              "      fill: #1967D2;\n",
              "      height: 32px;\n",
              "      padding: 0 0 0 0;\n",
              "      width: 32px;\n",
              "    }\n",
              "\n",
              "    .colab-df-convert:hover {\n",
              "      background-color: #E2EBFA;\n",
              "      box-shadow: 0px 1px 2px rgba(60, 64, 67, 0.3), 0px 1px 3px 1px rgba(60, 64, 67, 0.15);\n",
              "      fill: #174EA6;\n",
              "    }\n",
              "\n",
              "    [theme=dark] .colab-df-convert {\n",
              "      background-color: #3B4455;\n",
              "      fill: #D2E3FC;\n",
              "    }\n",
              "\n",
              "    [theme=dark] .colab-df-convert:hover {\n",
              "      background-color: #434B5C;\n",
              "      box-shadow: 0px 1px 3px 1px rgba(0, 0, 0, 0.15);\n",
              "      filter: drop-shadow(0px 1px 2px rgba(0, 0, 0, 0.3));\n",
              "      fill: #FFFFFF;\n",
              "    }\n",
              "  </style>\n",
              "\n",
              "      <script>\n",
              "        const buttonEl =\n",
              "          document.querySelector('#df-2cfcd607-2eb9-4542-8495-48afd649d0bb button.colab-df-convert');\n",
              "        buttonEl.style.display =\n",
              "          google.colab.kernel.accessAllowed ? 'block' : 'none';\n",
              "\n",
              "        async function convertToInteractive(key) {\n",
              "          const element = document.querySelector('#df-2cfcd607-2eb9-4542-8495-48afd649d0bb');\n",
              "          const dataTable =\n",
              "            await google.colab.kernel.invokeFunction('convertToInteractive',\n",
              "                                                     [key], {});\n",
              "          if (!dataTable) return;\n",
              "\n",
              "          const docLinkHtml = 'Like what you see? Visit the ' +\n",
              "            '<a target=\"_blank\" href=https://colab.research.google.com/notebooks/data_table.ipynb>data table notebook</a>'\n",
              "            + ' to learn more about interactive tables.';\n",
              "          element.innerHTML = '';\n",
              "          dataTable['output_type'] = 'display_data';\n",
              "          await google.colab.output.renderOutput(dataTable, element);\n",
              "          const docLink = document.createElement('div');\n",
              "          docLink.innerHTML = docLinkHtml;\n",
              "          element.appendChild(docLink);\n",
              "        }\n",
              "      </script>\n",
              "    </div>\n",
              "  </div>\n",
              "  "
            ],
            "text/plain": [
              "   anime_id    sum   len      mean\n",
              "0         1  82597  9314  8.868048\n",
              "1         5  34234  4058  8.436175\n",
              "2         6  55853  6629  8.425554\n",
              "3         7  11142  1488  7.487903\n",
              "4         8   1601   224  7.147321"
            ]
          },
          "execution_count": 5,
          "metadata": {},
          "output_type": "execute_result"
        }
      ],
      "source": [
        "grouped_anime = train.groupby(\"anime_id\", as_index=False).agg({\"rating\": [onp.sum, len, onp.mean]})\n",
        "grouped_anime = pd.concat([grouped_anime.anime_id, grouped_anime.rating], axis=1)\n",
        "grouped_anime.head()"
      ]
    },
    {
      "cell_type": "code",
      "execution_count": 6,
      "metadata": {
        "colab": {
          "base_uri": "https://localhost:8080/",
          "height": 206
        },
        "id": "XrxTGFVNBUQI",
        "outputId": "14c84aee-411d-4f84-c2ca-663a93975c8c"
      },
      "outputs": [
        {
          "data": {
            "text/html": [
              "\n",
              "  <div id=\"df-0ab9c9c2-28fd-429d-a13c-9e600b7d5577\">\n",
              "    <div class=\"colab-df-container\">\n",
              "      <div>\n",
              "<style scoped>\n",
              "    .dataframe tbody tr th:only-of-type {\n",
              "        vertical-align: middle;\n",
              "    }\n",
              "\n",
              "    .dataframe tbody tr th {\n",
              "        vertical-align: top;\n",
              "    }\n",
              "\n",
              "    .dataframe thead th {\n",
              "        text-align: right;\n",
              "    }\n",
              "</style>\n",
              "<table border=\"1\" class=\"dataframe\">\n",
              "  <thead>\n",
              "    <tr style=\"text-align: right;\">\n",
              "      <th></th>\n",
              "      <th>user_id</th>\n",
              "      <th>sum</th>\n",
              "      <th>len</th>\n",
              "      <th>mean</th>\n",
              "    </tr>\n",
              "  </thead>\n",
              "  <tbody>\n",
              "    <tr>\n",
              "      <th>0</th>\n",
              "      <td>1</td>\n",
              "      <td>30</td>\n",
              "      <td>3</td>\n",
              "      <td>10.000000</td>\n",
              "    </tr>\n",
              "    <tr>\n",
              "      <th>1</th>\n",
              "      <td>3</td>\n",
              "      <td>474</td>\n",
              "      <td>64</td>\n",
              "      <td>7.406250</td>\n",
              "    </tr>\n",
              "    <tr>\n",
              "      <th>2</th>\n",
              "      <td>5</td>\n",
              "      <td>1416</td>\n",
              "      <td>318</td>\n",
              "      <td>4.452830</td>\n",
              "    </tr>\n",
              "    <tr>\n",
              "      <th>3</th>\n",
              "      <td>7</td>\n",
              "      <td>1739</td>\n",
              "      <td>237</td>\n",
              "      <td>7.337553</td>\n",
              "    </tr>\n",
              "    <tr>\n",
              "      <th>4</th>\n",
              "      <td>8</td>\n",
              "      <td>46</td>\n",
              "      <td>6</td>\n",
              "      <td>7.666667</td>\n",
              "    </tr>\n",
              "  </tbody>\n",
              "</table>\n",
              "</div>\n",
              "      <button class=\"colab-df-convert\" onclick=\"convertToInteractive('df-0ab9c9c2-28fd-429d-a13c-9e600b7d5577')\"\n",
              "              title=\"Convert this dataframe to an interactive table.\"\n",
              "              style=\"display:none;\">\n",
              "        \n",
              "  <svg xmlns=\"http://www.w3.org/2000/svg\" height=\"24px\"viewBox=\"0 0 24 24\"\n",
              "       width=\"24px\">\n",
              "    <path d=\"M0 0h24v24H0V0z\" fill=\"none\"/>\n",
              "    <path d=\"M18.56 5.44l.94 2.06.94-2.06 2.06-.94-2.06-.94-.94-2.06-.94 2.06-2.06.94zm-11 1L8.5 8.5l.94-2.06 2.06-.94-2.06-.94L8.5 2.5l-.94 2.06-2.06.94zm10 10l.94 2.06.94-2.06 2.06-.94-2.06-.94-.94-2.06-.94 2.06-2.06.94z\"/><path d=\"M17.41 7.96l-1.37-1.37c-.4-.4-.92-.59-1.43-.59-.52 0-1.04.2-1.43.59L10.3 9.45l-7.72 7.72c-.78.78-.78 2.05 0 2.83L4 21.41c.39.39.9.59 1.41.59.51 0 1.02-.2 1.41-.59l7.78-7.78 2.81-2.81c.8-.78.8-2.07 0-2.86zM5.41 20L4 18.59l7.72-7.72 1.47 1.35L5.41 20z\"/>\n",
              "  </svg>\n",
              "      </button>\n",
              "      \n",
              "  <style>\n",
              "    .colab-df-container {\n",
              "      display:flex;\n",
              "      flex-wrap:wrap;\n",
              "      gap: 12px;\n",
              "    }\n",
              "\n",
              "    .colab-df-convert {\n",
              "      background-color: #E8F0FE;\n",
              "      border: none;\n",
              "      border-radius: 50%;\n",
              "      cursor: pointer;\n",
              "      display: none;\n",
              "      fill: #1967D2;\n",
              "      height: 32px;\n",
              "      padding: 0 0 0 0;\n",
              "      width: 32px;\n",
              "    }\n",
              "\n",
              "    .colab-df-convert:hover {\n",
              "      background-color: #E2EBFA;\n",
              "      box-shadow: 0px 1px 2px rgba(60, 64, 67, 0.3), 0px 1px 3px 1px rgba(60, 64, 67, 0.15);\n",
              "      fill: #174EA6;\n",
              "    }\n",
              "\n",
              "    [theme=dark] .colab-df-convert {\n",
              "      background-color: #3B4455;\n",
              "      fill: #D2E3FC;\n",
              "    }\n",
              "\n",
              "    [theme=dark] .colab-df-convert:hover {\n",
              "      background-color: #434B5C;\n",
              "      box-shadow: 0px 1px 3px 1px rgba(0, 0, 0, 0.15);\n",
              "      filter: drop-shadow(0px 1px 2px rgba(0, 0, 0, 0.3));\n",
              "      fill: #FFFFFF;\n",
              "    }\n",
              "  </style>\n",
              "\n",
              "      <script>\n",
              "        const buttonEl =\n",
              "          document.querySelector('#df-0ab9c9c2-28fd-429d-a13c-9e600b7d5577 button.colab-df-convert');\n",
              "        buttonEl.style.display =\n",
              "          google.colab.kernel.accessAllowed ? 'block' : 'none';\n",
              "\n",
              "        async function convertToInteractive(key) {\n",
              "          const element = document.querySelector('#df-0ab9c9c2-28fd-429d-a13c-9e600b7d5577');\n",
              "          const dataTable =\n",
              "            await google.colab.kernel.invokeFunction('convertToInteractive',\n",
              "                                                     [key], {});\n",
              "          if (!dataTable) return;\n",
              "\n",
              "          const docLinkHtml = 'Like what you see? Visit the ' +\n",
              "            '<a target=\"_blank\" href=https://colab.research.google.com/notebooks/data_table.ipynb>data table notebook</a>'\n",
              "            + ' to learn more about interactive tables.';\n",
              "          element.innerHTML = '';\n",
              "          dataTable['output_type'] = 'display_data';\n",
              "          await google.colab.output.renderOutput(dataTable, element);\n",
              "          const docLink = document.createElement('div');\n",
              "          docLink.innerHTML = docLinkHtml;\n",
              "          element.appendChild(docLink);\n",
              "        }\n",
              "      </script>\n",
              "    </div>\n",
              "  </div>\n",
              "  "
            ],
            "text/plain": [
              "   user_id   sum  len       mean\n",
              "0        1    30    3  10.000000\n",
              "1        3   474   64   7.406250\n",
              "2        5  1416  318   4.452830\n",
              "3        7  1739  237   7.337553\n",
              "4        8    46    6   7.666667"
            ]
          },
          "execution_count": 6,
          "metadata": {},
          "output_type": "execute_result"
        }
      ],
      "source": [
        "grouped_user = train.groupby(\"user_id\", as_index=False).agg({\"rating\": [onp.sum, len, onp.mean]})\n",
        "grouped_user = pd.concat([grouped_user.user_id, grouped_user.rating], axis=1)\n",
        "grouped_user.head()"
      ]
    },
    {
      "cell_type": "code",
      "execution_count": 7,
      "metadata": {
        "colab": {
          "base_uri": "https://localhost:8080/"
        },
        "id": "DvRGCyHvBUQJ",
        "outputId": "afb98ebe-ac23-47f3-a059-4597b4bf9bf7"
      },
      "outputs": [
        {
          "data": {
            "text/plain": [
              "(69600, 9927)"
            ]
          },
          "execution_count": 7,
          "metadata": {},
          "output_type": "execute_result"
        }
      ],
      "source": [
        "uid2idx = {e:i for i,e in enumerate(sorted(set(grouped_user.user_id) | set(test.user_id)))}\n",
        "aid2idx = {e:i for i,e in enumerate(sorted(set(grouped_anime.anime_id) | set(test.anime_id)))}\n",
        "len(uid2idx), len(aid2idx)"
      ]
    },
    {
      "cell_type": "markdown",
      "metadata": {
        "id": "F0FeyJU8wZnC"
      },
      "source": [
        "## Baseline"
      ]
    },
    {
      "cell_type": "code",
      "execution_count": 8,
      "metadata": {
        "colab": {
          "base_uri": "https://localhost:8080/",
          "height": 49,
          "referenced_widgets": [
            "e9d97cc0691d4ae68caf41517631a1b4",
            "54b6412a69a14b9caa027ed62718b384",
            "76ce6171bb49403b893370b275c0b689",
            "8815470e6b8b4bf690c8cd906e749ae6",
            "220e86c810ea4102a9b1178ea07bb4a1",
            "cc2ac84fdd0f455f8b4b2bde8f2ca914",
            "d8080e544de144febe295c13fdf189bc",
            "b5068729648849849761ba1aa13abb87",
            "95b8d036198b4797b0fb652295229f7c",
            "44a9c2c1837241acbf4e3746bc7bd614",
            "ffa60de6f5e84824ac287504b508dff8"
          ]
        },
        "id": "T2HCrQywBUQK",
        "outputId": "43a097cb-1363-455a-f71e-92d355272faf"
      },
      "outputs": [
        {
          "data": {
            "application/vnd.jupyter.widget-view+json": {
              "model_id": "e9d97cc0691d4ae68caf41517631a1b4",
              "version_major": 2,
              "version_minor": 0
            },
            "text/plain": [
              "0it [00:00, ?it/s]"
            ]
          },
          "metadata": {},
          "output_type": "display_data"
        }
      ],
      "source": [
        "train_rating_matrix = onp.zeros(shape=(len(uid2idx), len(aid2idx)))\n",
        "for _, (uid, aid, rating) in tqdm(train.iterrows()):\n",
        "    train_rating_matrix[uid2idx[uid]][aid2idx[aid]] = rating\n",
        "train_rating_matrix = train_rating_matrix.astype(onp.float32)"
      ]
    },
    {
      "cell_type": "code",
      "execution_count": 9,
      "metadata": {
        "colab": {
          "base_uri": "https://localhost:8080/",
          "height": 49,
          "referenced_widgets": [
            "46afef304d854ab090231a598cf1a1c5",
            "0044ddad41da46d88de5172eb2327df7",
            "41672161498c41929f13faa742c80de2",
            "f1ab0e522b504d0eaf10fa617faeb657",
            "818f7aab674247e8be1edff1057d0a2e",
            "718359a11c8d4aada7836d65586c81d6",
            "6475b3df210844db9493c49c8fce2726",
            "47ebb147165048958424f451672c51d1",
            "442a435c40cc4471b10055ebefa903b4",
            "5d825b5b343b461d9d70c63c713af324",
            "740e5d2af7664fcb971445bf85f0582f"
          ]
        },
        "id": "84BzZPINBUQK",
        "outputId": "762ae5ba-5f44-4f84-d8ea-783b3e9adff0"
      },
      "outputs": [
        {
          "data": {
            "application/vnd.jupyter.widget-view+json": {
              "model_id": "46afef304d854ab090231a598cf1a1c5",
              "version_major": 2,
              "version_minor": 0
            },
            "text/plain": [
              "0it [00:00, ?it/s]"
            ]
          },
          "metadata": {},
          "output_type": "display_data"
        }
      ],
      "source": [
        "test_rating_matrix = onp.zeros(shape=(len(uid2idx), len(aid2idx)))\n",
        "for _, (uid, aid, rating) in tqdm(test.iterrows()):\n",
        "    test_rating_matrix[uid2idx[uid]][aid2idx[aid]] = rating\n",
        "test_rating_matrix = test_rating_matrix.astype(onp.float32)"
      ]
    },
    {
      "cell_type": "markdown",
      "metadata": {
        "id": "2yq-SURZBUQM"
      },
      "source": [
        "## Latent Factor Model w/o SVD"
      ]
    },
    {
      "cell_type": "code",
      "execution_count": 10,
      "metadata": {
        "id": "m8IjkCeRBUQN"
      },
      "outputs": [],
      "source": [
        "# Split U x A to U x r and A x r\n",
        "r = 3\n",
        "\n",
        "# supplier\n",
        "user_weights_init = lambda: onp.random.normal(0,1,size=(len(uid2idx), r)).astype(onp.float32)\n",
        "anime_weights_init = lambda: onp.random.normal(0,1,size=(len(aid2idx), r)).astype(onp.float32)"
      ]
    },
    {
      "cell_type": "code",
      "execution_count": 11,
      "metadata": {
        "id": "Vyxt_gx4U4Ef"
      },
      "outputs": [],
      "source": [
        "indices = onp.where(train_rating_matrix != 0)\n",
        "test_indices = onp.where(test_rating_matrix != 0)\n",
        "train_ratings = train_rating_matrix[indices]\n",
        "test_ratings = test_rating_matrix[test_indices]"
      ]
    },
    {
      "cell_type": "code",
      "execution_count": 12,
      "metadata": {
        "id": "nSMYVmdIBUQM"
      },
      "outputs": [],
      "source": [
        "@jax.jit\n",
        "def MSE(WU, WA):\n",
        "    error = train_ratings - (WU @ WA.T)[indices]\n",
        "    return jnp.mean(error**2)\n",
        "MSE_grad_u = jax.jit(jax.grad(MSE, argnums=0))\n",
        "MSE_grad_a = jax.jit(jax.grad(MSE, argnums=1))"
      ]
    },
    {
      "cell_type": "code",
      "execution_count": 13,
      "metadata": {
        "id": "GV4_poOpBUQM"
      },
      "outputs": [],
      "source": [
        "@jax.jit\n",
        "def MSE_test(WU, WA):\n",
        "    error = test_ratings - (WU @ WA.T)[test_indices]\n",
        "    return jnp.mean(error**2)"
      ]
    },
    {
      "cell_type": "markdown",
      "metadata": {
        "id": "tndqbf3vBUQN"
      },
      "source": [
        "### Gradient Descent"
      ]
    },
    {
      "cell_type": "markdown",
      "metadata": {
        "id": "di95jKkdBUQN"
      },
      "source": [
        "#### Sequential"
      ]
    },
    {
      "cell_type": "code",
      "execution_count": 54,
      "metadata": {
        "id": "G6MzaY7ABUQN"
      },
      "outputs": [],
      "source": [
        "WU, WA = user_weights_init(), anime_weights_init()\n",
        "train_mse_hist = [MSE(WU, WA)]\n",
        "test_mse_hist = [MSE_test(WU, WA)]\n",
        "\n",
        "niter = 4000\n",
        "learning_rate = 40"
      ]
    },
    {
      "cell_type": "code",
      "execution_count": 55,
      "metadata": {
        "colab": {
          "base_uri": "https://localhost:8080/",
          "height": 86,
          "referenced_widgets": [
            "ba09458e2d02496dade8cedccc61c932",
            "0355565ac0244bd68c759f9710dfd47b",
            "ccea66c70be5447a9108a0ce29d0212a",
            "ac96324bc10b410286bf89450d61ca56",
            "b47cf3754adf463f9184a685e7109d65",
            "3ec58a11bd974b1b9f662e281af5d8b5",
            "12ce5584d275417489c247c01d4ab5fc",
            "5b3766e7d54040c0af389ee2f3c49347",
            "b96ea14320cf40c8bf306050eddab1fb",
            "3f46b9cdd9a040ff82a4d92ebbff6508",
            "ce744f7dd14f4df39e008946d0af2282"
          ]
        },
        "id": "MBidmJwwBUQN",
        "outputId": "11503168-4c54-40e9-9394-7dcb50abaf63"
      },
      "outputs": [
        {
          "data": {
            "application/vnd.jupyter.widget-view+json": {
              "model_id": "ba09458e2d02496dade8cedccc61c932",
              "version_major": 2,
              "version_minor": 0
            },
            "text/plain": [
              "  0%|          | 0/4000 [00:00<?, ?it/s]"
            ]
          },
          "metadata": {},
          "output_type": "display_data"
        },
        {
          "name": "stdout",
          "output_type": "stream",
          "text": [
            "CPU times: user 14.1 s, sys: 2.04 s, total: 16.1 s\n",
            "Wall time: 9min 27s\n"
          ]
        }
      ],
      "source": [
        "%%time\n",
        "for _ in tqdm(range(niter)):\n",
        "    grad_u = MSE_grad_u(WU, WA)\n",
        "    WU = WU - learning_rate*grad_u\n",
        "\n",
        "    grad_a = MSE_grad_a(WU, WA)\n",
        "    WA = WA - learning_rate*grad_a\n",
        "\n",
        "    train_mse_hist.append(MSE(WU, WA))\n",
        "    test_mse_hist.append(MSE_test(WU, WA))"
      ]
    },
    {
      "cell_type": "code",
      "execution_count": 56,
      "metadata": {
        "colab": {
          "base_uri": "https://localhost:8080/",
          "height": 472
        },
        "id": "Vi_oD6NjBUQO",
        "outputId": "7028bec6-8543-45ad-a200-44e30eb82b69"
      },
      "outputs": [
        {
          "data": {
            "image/png": "[encoded data removed]",
            "text/plain": [
              "<Figure size 640x480 with 1 Axes>"
            ]
          },
          "metadata": {},
          "output_type": "display_data"
        }
      ],
      "source": [
        "plt.plot(onp.log(train_mse_hist), label='train')\n",
        "plt.plot(onp.log(test_mse_hist), label='test')\n",
        "plt.plot([onp.log(1.5)]*niter, label='target')\n",
        "plt.title('MSE using Sequential Gradient Descent')\n",
        "plt.xlabel('Iteration')\n",
        "plt.ylabel('Log MSE')\n",
        "plt.legend()\n",
        "plt.show()"
      ]
    },
    {
      "cell_type": "code",
      "execution_count": 57,
      "metadata": {
        "colab": {
          "base_uri": "https://localhost:8080/"
        },
        "id": "CF4-zK0S9Z9B",
        "outputId": "586be7ba-3e37-4b2f-af44-1933373ae969"
      },
      "outputs": [
        {
          "data": {
            "text/plain": [
              "[Array(1.5892152, dtype=float32),\n",
              " Array(1.5891973, dtype=float32),\n",
              " Array(1.5891794, dtype=float32),\n",
              " Array(1.5891614, dtype=float32),\n",
              " Array(1.5891435, dtype=float32),\n",
              " Array(1.5891256, dtype=float32),\n",
              " Array(1.5891076, dtype=float32),\n",
              " Array(1.5890898, dtype=float32),\n",
              " Array(1.5890719, dtype=float32),\n",
              " Array(1.589054, dtype=float32),\n",
              " Array(1.5890361, dtype=float32),\n",
              " Array(1.5890182, dtype=float32),\n",
              " Array(1.5890003, dtype=float32),\n",
              " Array(1.5889825, dtype=float32),\n",
              " Array(1.5889645, dtype=float32),\n",
              " Array(1.5889466, dtype=float32),\n",
              " Array(1.5889287, dtype=float32),\n",
              " Array(1.588911, dtype=float32),\n",
              " Array(1.5888932, dtype=float32),\n",
              " Array(1.5888754, dtype=float32)]"
            ]
          },
          "execution_count": 57,
          "metadata": {},
          "output_type": "execute_result"
        }
      ],
      "source": [
        "test_mse_hist[-20:]"
      ]
    },
    {
      "cell_type": "markdown",
      "metadata": {
        "id": "TfcH6JF5BUQO"
      },
      "source": [
        "#### Parallel"
      ]
    },
    {
      "cell_type": "code",
      "execution_count": 58,
      "metadata": {
        "id": "jJ-m1gj6BUQO"
      },
      "outputs": [],
      "source": [
        "WU, WA = user_weights_init(), anime_weights_init()\n",
        "train_mse_hist = [MSE(WU, WA)]\n",
        "test_mse_hist = [MSE_test(WU, WA)]\n",
        "\n",
        "niter = 4000\n",
        "learning_rate = 35"
      ]
    },
    {
      "cell_type": "code",
      "execution_count": 59,
      "metadata": {
        "colab": {
          "base_uri": "https://localhost:8080/",
          "height": 86,
          "referenced_widgets": [
            "7cead4a08d454d3c996ae0d869da9c80",
            "d451812deda94397952f3bdb8056201d",
            "d8b1efa26df24de7a701928c6736dc67",
            "5d1bb8ebcbcd4141b729ad5c43d61af4",
            "ce2573a3f07a4349ab7f9d639d523a40",
            "5498c0aea64149a0a8907f2568f734ac",
            "a45af6f126b44c6cad792e1de338f139",
            "05c68aa6d9c64c76a92dd9fc1c77e389",
            "41d86a63748440b1811dc4137b9fe7cc",
            "9a6e03598e0b4ff186bd347bf1e709ce",
            "ecf8cda7c8a144ef81b0e56fac49b61a"
          ]
        },
        "id": "reUYne9MBUQO",
        "outputId": "b07e2ced-f364-4009-ffd5-fb1acfa04287"
      },
      "outputs": [
        {
          "data": {
            "application/vnd.jupyter.widget-view+json": {
              "model_id": "7cead4a08d454d3c996ae0d869da9c80",
              "version_major": 2,
              "version_minor": 0
            },
            "text/plain": [
              "  0%|          | 0/4000 [00:00<?, ?it/s]"
            ]
          },
          "metadata": {},
          "output_type": "display_data"
        },
        {
          "name": "stdout",
          "output_type": "stream",
          "text": [
            "CPU times: user 15.3 s, sys: 2.16 s, total: 17.4 s\n",
            "Wall time: 9min 27s\n"
          ]
        }
      ],
      "source": [
        "%%time\n",
        "for _ in tqdm(range(niter)):\n",
        "    grad_u = MSE_grad_u(WU, WA)\n",
        "    grad_a = MSE_grad_a(WU, WA)\n",
        "    WU, WA = WU - learning_rate*grad_u, WA - learning_rate*grad_a\n",
        "    train_mse_hist.append(MSE(WU, WA))\n",
        "    test_mse_hist.append(MSE_test(WU, WA))"
      ]
    },
    {
      "cell_type": "code",
      "execution_count": 60,
      "metadata": {
        "colab": {
          "base_uri": "https://localhost:8080/",
          "height": 472
        },
        "id": "8ejzFn5hBUQO",
        "outputId": "a3af41f1-2d54-4f66-b469-78b87354dee7"
      },
      "outputs": [
        {
          "data": {
            "image/png": "[encoded data removed]",
            "text/plain": [
              "<Figure size 640x480 with 1 Axes>"
            ]
          },
          "metadata": {},
          "output_type": "display_data"
        }
      ],
      "source": [
        "plt.plot(onp.log(train_mse_hist), label='train')\n",
        "plt.plot(onp.log(test_mse_hist), label='test')\n",
        "plt.plot([onp.log(1.5)]*niter, label='target')\n",
        "plt.title('MSE using Parallel Gradient Descent')\n",
        "plt.xlabel('Iteration')\n",
        "plt.ylabel('Log MSE')\n",
        "plt.legend()\n",
        "plt.show()"
      ]
    },
    {
      "cell_type": "code",
      "execution_count": 61,
      "metadata": {
        "colab": {
          "base_uri": "https://localhost:8080/"
        },
        "id": "bvBYzSt79dNV",
        "outputId": "47d0c940-fee0-44a6-c1fa-ebccc9478f4c"
      },
      "outputs": [
        {
          "data": {
            "text/plain": [
              "[Array(1.605039, dtype=float32),\n",
              " Array(1.6050241, dtype=float32),\n",
              " Array(1.605009, dtype=float32),\n",
              " Array(1.604994, dtype=float32),\n",
              " Array(1.6049792, dtype=float32),\n",
              " Array(1.6049643, dtype=float32),\n",
              " Array(1.6049492, dtype=float32),\n",
              " Array(1.6049345, dtype=float32),\n",
              " Array(1.6049194, dtype=float32),\n",
              " Array(1.6049047, dtype=float32),\n",
              " Array(1.6048898, dtype=float32),\n",
              " Array(1.6048747, dtype=float32),\n",
              " Array(1.60486, dtype=float32),\n",
              " Array(1.604845, dtype=float32),\n",
              " Array(1.6048301, dtype=float32),\n",
              " Array(1.6048152, dtype=float32),\n",
              " Array(1.6048005, dtype=float32),\n",
              " Array(1.6047857, dtype=float32),\n",
              " Array(1.6047708, dtype=float32),\n",
              " Array(1.604756, dtype=float32)]"
            ]
          },
          "execution_count": 61,
          "metadata": {},
          "output_type": "execute_result"
        }
      ],
      "source": [
        "test_mse_hist[-20:]"
      ]
    },
    {
      "cell_type": "markdown",
      "metadata": {
        "id": "_I3Wg3A3BUQO"
      },
      "source": [
        "### L-BFGS"
      ]
    },
    {
      "cell_type": "code",
      "execution_count": 30,
      "metadata": {
        "id": "6dAMTUGiBUQP"
      },
      "outputs": [],
      "source": [
        "@jax.jit\n",
        "def extract(param):\n",
        "    user_weights = param[:(len(uid2idx)*r)]\n",
        "    anime_weights = param[(len(uid2idx)*r):]\n",
        "    return user_weights.reshape(len(uid2idx), r), anime_weights.reshape(len(aid2idx), r)\n",
        "\n",
        "def MSE_lbfgs(params):\n",
        "    WU, WA = extract(params)\n",
        "    error = train_ratings - (WU @ WA.T)[indices]\n",
        "    return onp.mean(error**2)\n",
        "\n",
        "@jax.jit\n",
        "def MSE_test_lbfgs(params):\n",
        "    WU, WA = extract(params)\n",
        "    error = test_ratings - (WU @ WA.T)[test_indices]\n",
        "    return jnp.mean(error**2)\n",
        "\n",
        "MSE_lbfgs_grad = jax.jit(jax.grad(MSE_lbfgs))"
      ]
    },
    {
      "cell_type": "code",
      "execution_count": 45,
      "metadata": {
        "id": "F-hl6S2G15R_"
      },
      "outputs": [],
      "source": [
        "param_init = onp.concatenate([\n",
        "    user_weights_init().ravel(),\n",
        "    anime_weights_init().ravel()]).astype(onp.float32)"
      ]
    },
    {
      "cell_type": "code",
      "execution_count": 44,
      "metadata": {
        "id": "Qua_wz6QBUQP"
      },
      "outputs": [],
      "source": [
        "def gradient_wrapper(x):\n",
        "    return onp.array(MSE_lbfgs_grad(x))\n",
        "\n",
        "loss_history = []\n",
        "time_history = []\n",
        "\n",
        "def save_traj(beta):\n",
        "    \"\"\" a function that saves a few statistics for later analysis\"\"\"\n",
        "    loss_history.append(MSE_lbfgs(beta))\n",
        "    time_history.append(time.time() - start)"
      ]
    },
    {
      "cell_type": "code",
      "execution_count": 46,
      "metadata": {
        "id": "aJBTdDmF5-Em"
      },
      "outputs": [],
      "source": [
        "start = time.time()\n",
        "traj = sp.optimize.minimize(fun = MSE_lbfgs,\n",
        "                            x0 = param_init,\n",
        "                            method='L-BFGS-B',\n",
        "                            jac=gradient_wrapper,\n",
        "                            callback=save_traj,\n",
        "                            options={\"maxiter\":1000})"
      ]
    },
    {
      "cell_type": "code",
      "execution_count": 47,
      "metadata": {
        "colab": {
          "base_uri": "https://localhost:8080/",
          "height": 472
        },
        "id": "Lg1H02075_eT",
        "outputId": "41e537aa-4b95-4dcb-c343-5df7f522e137"
      },
      "outputs": [
        {
          "data": {
            "image/png": "[encoded data removed]",
            "text/plain": [
              "<Figure size 640x480 with 1 Axes>"
            ]
          },
          "metadata": {},
          "output_type": "display_data"
        }
      ],
      "source": [
        "plt.plot(time_history, loss_history, \"r-s\")\n",
        "plt.xlabel(\"time (sec)\")\n",
        "plt.ylabel(\"loss\")\n",
        "plt.title(\"L-BFGS\")\n",
        "plt.grid(True)"
      ]
    },
    {
      "cell_type": "code",
      "execution_count": 48,
      "metadata": {
        "colab": {
          "base_uri": "https://localhost:8080/"
        },
        "id": "NByI5Pie6meS",
        "outputId": "32a1586a-c6c8-4c18-b1cb-59a04d5606d6"
      },
      "outputs": [
        {
          "data": {
            "text/plain": [
              "Array(1.4763475, dtype=float64)"
            ]
          },
          "execution_count": 48,
          "metadata": {},
          "output_type": "execute_result"
        }
      ],
      "source": [
        "MSE_test_lbfgs(traj.x)"
      ]
    },
    {
      "cell_type": "markdown",
      "metadata": {
        "id": "qU5KD_VwBUQR"
      },
      "source": [
        "## Using Surprise for Item-Based Collaborative Filtering"
      ]
    },
    {
      "cell_type": "code",
      "execution_count": 13,
      "metadata": {
        "id": "9cYb__8vBUQR"
      },
      "outputs": [],
      "source": [
        "from surprise import Dataset, Reader, SVD, SVDpp, accuracy\n",
        "from surprise.model_selection import cross_validate, GridSearchCV\n",
        "from surprise import KNNBasic, KNNWithMeans, KNNWithZScore, KNNBaseline\n",
        "\n",
        "similarity = {\n",
        "    \"name\": \"cosine\",\n",
        "    \"user_based\": False,\n",
        "}\n",
        "algo_KNN_basic = KNNBasic(sim_options=similarity)\n",
        "algo_KNN_means = KNNWithMeans(sim_options=similarity)\n",
        "algo_KNN_zscore = KNNWithZScore(sim_options=similarity)\n",
        "algo_KNN_baseline = KNNBaseline(sim_options=similarity)"
      ]
    },
    {
      "cell_type": "code",
      "execution_count": 16,
      "metadata": {
        "id": "VFYs8KV9VsnG"
      },
      "outputs": [],
      "source": [
        "reader = Reader(rating_scale=(1, 10))\n",
        "rating_train_df = Dataset.load_from_df(train, reader)\n",
        "rating_train_df = rating_train_df.build_full_trainset()\n",
        "rating_test_df = Dataset.load_from_df(test, reader)\n",
        "rating_test_df = rating_test_df.build_full_trainset().build_testset()"
      ]
    },
    {
      "cell_type": "code",
      "execution_count": 17,
      "metadata": {
        "colab": {
          "base_uri": "https://localhost:8080/"
        },
        "id": "C505H9xeBUQS",
        "outputId": "b7d466ce-6996-4929-af78-9b6844d24843"
      },
      "outputs": [
        {
          "name": "stdout",
          "output_type": "stream",
          "text": [
            "Computing the cosine similarity matrix...\n",
            "Done computing similarity matrix.\n",
            "KNNBasic 1.682647210823903\n",
            "Computing the cosine similarity matrix...\n",
            "Done computing similarity matrix.\n",
            "KNNWithMeans 1.4139614611458935\n",
            "Computing the cosine similarity matrix...\n",
            "Done computing similarity matrix.\n",
            "KNNWithZScore 1.4129900258128265\n",
            "Estimating biases using als...\n",
            "Computing the cosine similarity matrix...\n",
            "Done computing similarity matrix.\n",
            "KNNBaseline 1.405066379135643\n"
          ]
        }
      ],
      "source": [
        "for algo in [algo_KNN_basic, algo_KNN_means, algo_KNN_zscore, algo_KNN_baseline]:\n",
        "    algo.fit(rating_train_df)\n",
        "    test_out = algo.test(rating_test_df)\n",
        "    print(type(algo).__name__, accuracy.mse(test_out, verbose=False))"
      ]
    }
  ],
  "metadata": {
    "accelerator": "GPU",
    "colab": {
      "collapsed_sections": [
        "Doep--T0rWFE",
        "eEuqokhrr1SL",
        "F0FeyJU8wZnC",
        "KY3o596YBUQL"
      ],
      "provenance": []
    },
    "gpuClass": "standard",
    "kernelspec": {
      "display_name": "Python 3",
      "name": "python3"
    },
    "language_info": {
      "codemirror_mode": {
        "name": "ipython",
        "version": 3
      },
      "file_extension": ".py",
      "mimetype": "text/x-python",
      "name": "python",
      "nbconvert_exporter": "python",
      "pygments_lexer": "ipython3",
      "version": "3.9.9"
    },
    "widgets": {
      "application/vnd.jupyter.widget-state+json": {
        "0044ddad41da46d88de5172eb2327df7": {
          "model_module": "@jupyter-widgets/controls",
          "model_module_version": "1.5.0",
          "model_name": "HTMLModel",
          "state": {
            "_dom_classes": [],
            "_model_module": "@jupyter-widgets/controls",
            "_model_module_version": "1.5.0",
            "_model_name": "HTMLModel",
            "_view_count": null,
            "_view_module": "@jupyter-widgets/controls",
            "_view_module_version": "1.5.0",
            "_view_name": "HTMLView",
            "description": "",
            "description_tooltip": null,
            "layout": "IPY_MODEL_718359a11c8d4aada7836d65586c81d6",
            "placeholder": "​",
            "style": "IPY_MODEL_6475b3df210844db9493c49c8fce2726",
            "value": ""
          }
        },
        "0355565ac0244bd68c759f9710dfd47b": {
          "model_module": "@jupyter-widgets/controls",
          "model_module_version": "1.5.0",
          "model_name": "HTMLModel",
          "state": {
            "_dom_classes": [],
            "_model_module": "@jupyter-widgets/controls",
            "_model_module_version": "1.5.0",
            "_model_name": "HTMLModel",
            "_view_count": null,
            "_view_module": "@jupyter-widgets/controls",
            "_view_module_version": "1.5.0",
            "_view_name": "HTMLView",
            "description": "",
            "description_tooltip": null,
            "layout": "IPY_MODEL_3ec58a11bd974b1b9f662e281af5d8b5",
            "placeholder": "​",
            "style": "IPY_MODEL_12ce5584d275417489c247c01d4ab5fc",
            "value": "100%"
          }
        },
        "05c68aa6d9c64c76a92dd9fc1c77e389": {
          "model_module": "@jupyter-widgets/base",
          "model_module_version": "1.2.0",
          "model_name": "LayoutModel",
          "state": {
            "_model_module": "@jupyter-widgets/base",
            "_model_module_version": "1.2.0",
            "_model_name": "LayoutModel",
            "_view_count": null,
            "_view_module": "@jupyter-widgets/base",
            "_view_module_version": "1.2.0",
            "_view_name": "LayoutView",
            "align_content": null,
            "align_items": null,
            "align_self": null,
            "border": null,
            "bottom": null,
            "display": null,
            "flex": null,
            "flex_flow": null,
            "grid_area": null,
            "grid_auto_columns": null,
            "grid_auto_flow": null,
            "grid_auto_rows": null,
            "grid_column": null,
            "grid_gap": null,
            "grid_row": null,
            "grid_template_areas": null,
            "grid_template_columns": null,
            "grid_template_rows": null,
            "height": null,
            "justify_content": null,
            "justify_items": null,
            "left": null,
            "margin": null,
            "max_height": null,
            "max_width": null,
            "min_height": null,
            "min_width": null,
            "object_fit": null,
            "object_position": null,
            "order": null,
            "overflow": null,
            "overflow_x": null,
            "overflow_y": null,
            "padding": null,
            "right": null,
            "top": null,
            "visibility": null,
            "width": null
          }
        },
        "12ce5584d275417489c247c01d4ab5fc": {
          "model_module": "@jupyter-widgets/controls",
          "model_module_version": "1.5.0",
          "model_name": "DescriptionStyleModel",
          "state": {
            "_model_module": "@jupyter-widgets/controls",
            "_model_module_version": "1.5.0",
            "_model_name": "DescriptionStyleModel",
            "_view_count": null,
            "_view_module": "@jupyter-widgets/base",
            "_view_module_version": "1.2.0",
            "_view_name": "StyleView",
            "description_width": ""
          }
        },
        "220e86c810ea4102a9b1178ea07bb4a1": {
          "model_module": "@jupyter-widgets/base",
          "model_module_version": "1.2.0",
          "model_name": "LayoutModel",
          "state": {
            "_model_module": "@jupyter-widgets/base",
            "_model_module_version": "1.2.0",
            "_model_name": "LayoutModel",
            "_view_count": null,
            "_view_module": "@jupyter-widgets/base",
            "_view_module_version": "1.2.0",
            "_view_name": "LayoutView",
            "align_content": null,
            "align_items": null,
            "align_self": null,
            "border": null,
            "bottom": null,
            "display": null,
            "flex": null,
            "flex_flow": null,
            "grid_area": null,
            "grid_auto_columns": null,
            "grid_auto_flow": null,
            "grid_auto_rows": null,
            "grid_column": null,
            "grid_gap": null,
            "grid_row": null,
            "grid_template_areas": null,
            "grid_template_columns": null,
            "grid_template_rows": null,
            "height": null,
            "justify_content": null,
            "justify_items": null,
            "left": null,
            "margin": null,
            "max_height": null,
            "max_width": null,
            "min_height": null,
            "min_width": null,
            "object_fit": null,
            "object_position": null,
            "order": null,
            "overflow": null,
            "overflow_x": null,
            "overflow_y": null,
            "padding": null,
            "right": null,
            "top": null,
            "visibility": null,
            "width": null
          }
        },
        "3ec58a11bd974b1b9f662e281af5d8b5": {
          "model_module": "@jupyter-widgets/base",
          "model_module_version": "1.2.0",
          "model_name": "LayoutModel",
          "state": {
            "_model_module": "@jupyter-widgets/base",
            "_model_module_version": "1.2.0",
            "_model_name": "LayoutModel",
            "_view_count": null,
            "_view_module": "@jupyter-widgets/base",
            "_view_module_version": "1.2.0",
            "_view_name": "LayoutView",
            "align_content": null,
            "align_items": null,
            "align_self": null,
            "border": null,
            "bottom": null,
            "display": null,
            "flex": null,
            "flex_flow": null,
            "grid_area": null,
            "grid_auto_columns": null,
            "grid_auto_flow": null,
            "grid_auto_rows": null,
            "grid_column": null,
            "grid_gap": null,
            "grid_row": null,
            "grid_template_areas": null,
            "grid_template_columns": null,
            "grid_template_rows": null,
            "height": null,
            "justify_content": null,
            "justify_items": null,
            "left": null,
            "margin": null,
            "max_height": null,
            "max_width": null,
            "min_height": null,
            "min_width": null,
            "object_fit": null,
            "object_position": null,
            "order": null,
            "overflow": null,
            "overflow_x": null,
            "overflow_y": null,
            "padding": null,
            "right": null,
            "top": null,
            "visibility": null,
            "width": null
          }
        },
        "3f46b9cdd9a040ff82a4d92ebbff6508": {
          "model_module": "@jupyter-widgets/base",
          "model_module_version": "1.2.0",
          "model_name": "LayoutModel",
          "state": {
            "_model_module": "@jupyter-widgets/base",
            "_model_module_version": "1.2.0",
            "_model_name": "LayoutModel",
            "_view_count": null,
            "_view_module": "@jupyter-widgets/base",
            "_view_module_version": "1.2.0",
            "_view_name": "LayoutView",
            "align_content": null,
            "align_items": null,
            "align_self": null,
            "border": null,
            "bottom": null,
            "display": null,
            "flex": null,
            "flex_flow": null,
            "grid_area": null,
            "grid_auto_columns": null,
            "grid_auto_flow": null,
            "grid_auto_rows": null,
            "grid_column": null,
            "grid_gap": null,
            "grid_row": null,
            "grid_template_areas": null,
            "grid_template_columns": null,
            "grid_template_rows": null,
            "height": null,
            "justify_content": null,
            "justify_items": null,
            "left": null,
            "margin": null,
            "max_height": null,
            "max_width": null,
            "min_height": null,
            "min_width": null,
            "object_fit": null,
            "object_position": null,
            "order": null,
            "overflow": null,
            "overflow_x": null,
            "overflow_y": null,
            "padding": null,
            "right": null,
            "top": null,
            "visibility": null,
            "width": null
          }
        },
        "41672161498c41929f13faa742c80de2": {
          "model_module": "@jupyter-widgets/controls",
          "model_module_version": "1.5.0",
          "model_name": "FloatProgressModel",
          "state": {
            "_dom_classes": [],
            "_model_module": "@jupyter-widgets/controls",
            "_model_module_version": "1.5.0",
            "_model_name": "FloatProgressModel",
            "_view_count": null,
            "_view_module": "@jupyter-widgets/controls",
            "_view_module_version": "1.5.0",
            "_view_name": "ProgressView",
            "bar_style": "success",
            "description": "",
            "description_tooltip": null,
            "layout": "IPY_MODEL_47ebb147165048958424f451672c51d1",
            "max": 1,
            "min": 0,
            "orientation": "horizontal",
            "style": "IPY_MODEL_442a435c40cc4471b10055ebefa903b4",
            "value": 1
          }
        },
        "41d86a63748440b1811dc4137b9fe7cc": {
          "model_module": "@jupyter-widgets/controls",
          "model_module_version": "1.5.0",
          "model_name": "ProgressStyleModel",
          "state": {
            "_model_module": "@jupyter-widgets/controls",
            "_model_module_version": "1.5.0",
            "_model_name": "ProgressStyleModel",
            "_view_count": null,
            "_view_module": "@jupyter-widgets/base",
            "_view_module_version": "1.2.0",
            "_view_name": "StyleView",
            "bar_color": null,
            "description_width": ""
          }
        },
        "442a435c40cc4471b10055ebefa903b4": {
          "model_module": "@jupyter-widgets/controls",
          "model_module_version": "1.5.0",
          "model_name": "ProgressStyleModel",
          "state": {
            "_model_module": "@jupyter-widgets/controls",
            "_model_module_version": "1.5.0",
            "_model_name": "ProgressStyleModel",
            "_view_count": null,
            "_view_module": "@jupyter-widgets/base",
            "_view_module_version": "1.2.0",
            "_view_name": "StyleView",
            "bar_color": null,
            "description_width": ""
          }
        },
        "44a9c2c1837241acbf4e3746bc7bd614": {
          "model_module": "@jupyter-widgets/base",
          "model_module_version": "1.2.0",
          "model_name": "LayoutModel",
          "state": {
            "_model_module": "@jupyter-widgets/base",
            "_model_module_version": "1.2.0",
            "_model_name": "LayoutModel",
            "_view_count": null,
            "_view_module": "@jupyter-widgets/base",
            "_view_module_version": "1.2.0",
            "_view_name": "LayoutView",
            "align_content": null,
            "align_items": null,
            "align_self": null,
            "border": null,
            "bottom": null,
            "display": null,
            "flex": null,
            "flex_flow": null,
            "grid_area": null,
            "grid_auto_columns": null,
            "grid_auto_flow": null,
            "grid_auto_rows": null,
            "grid_column": null,
            "grid_gap": null,
            "grid_row": null,
            "grid_template_areas": null,
            "grid_template_columns": null,
            "grid_template_rows": null,
            "height": null,
            "justify_content": null,
            "justify_items": null,
            "left": null,
            "margin": null,
            "max_height": null,
            "max_width": null,
            "min_height": null,
            "min_width": null,
            "object_fit": null,
            "object_position": null,
            "order": null,
            "overflow": null,
            "overflow_x": null,
            "overflow_y": null,
            "padding": null,
            "right": null,
            "top": null,
            "visibility": null,
            "width": null
          }
        },
        "46afef304d854ab090231a598cf1a1c5": {
          "model_module": "@jupyter-widgets/controls",
          "model_module_version": "1.5.0",
          "model_name": "HBoxModel",
          "state": {
            "_dom_classes": [],
            "_model_module": "@jupyter-widgets/controls",
            "_model_module_version": "1.5.0",
            "_model_name": "HBoxModel",
            "_view_count": null,
            "_view_module": "@jupyter-widgets/controls",
            "_view_module_version": "1.5.0",
            "_view_name": "HBoxView",
            "box_style": "",
            "children": [
              "IPY_MODEL_0044ddad41da46d88de5172eb2327df7",
              "IPY_MODEL_41672161498c41929f13faa742c80de2",
              "IPY_MODEL_f1ab0e522b504d0eaf10fa617faeb657"
            ],
            "layout": "IPY_MODEL_818f7aab674247e8be1edff1057d0a2e"
          }
        },
        "47ebb147165048958424f451672c51d1": {
          "model_module": "@jupyter-widgets/base",
          "model_module_version": "1.2.0",
          "model_name": "LayoutModel",
          "state": {
            "_model_module": "@jupyter-widgets/base",
            "_model_module_version": "1.2.0",
            "_model_name": "LayoutModel",
            "_view_count": null,
            "_view_module": "@jupyter-widgets/base",
            "_view_module_version": "1.2.0",
            "_view_name": "LayoutView",
            "align_content": null,
            "align_items": null,
            "align_self": null,
            "border": null,
            "bottom": null,
            "display": null,
            "flex": null,
            "flex_flow": null,
            "grid_area": null,
            "grid_auto_columns": null,
            "grid_auto_flow": null,
            "grid_auto_rows": null,
            "grid_column": null,
            "grid_gap": null,
            "grid_row": null,
            "grid_template_areas": null,
            "grid_template_columns": null,
            "grid_template_rows": null,
            "height": null,
            "justify_content": null,
            "justify_items": null,
            "left": null,
            "margin": null,
            "max_height": null,
            "max_width": null,
            "min_height": null,
            "min_width": null,
            "object_fit": null,
            "object_position": null,
            "order": null,
            "overflow": null,
            "overflow_x": null,
            "overflow_y": null,
            "padding": null,
            "right": null,
            "top": null,
            "visibility": null,
            "width": "20px"
          }
        },
        "5498c0aea64149a0a8907f2568f734ac": {
          "model_module": "@jupyter-widgets/base",
          "model_module_version": "1.2.0",
          "model_name": "LayoutModel",
          "state": {
            "_model_module": "@jupyter-widgets/base",
            "_model_module_version": "1.2.0",
            "_model_name": "LayoutModel",
            "_view_count": null,
            "_view_module": "@jupyter-widgets/base",
            "_view_module_version": "1.2.0",
            "_view_name": "LayoutView",
            "align_content": null,
            "align_items": null,
            "align_self": null,
            "border": null,
            "bottom": null,
            "display": null,
            "flex": null,
            "flex_flow": null,
            "grid_area": null,
            "grid_auto_columns": null,
            "grid_auto_flow": null,
            "grid_auto_rows": null,
            "grid_column": null,
            "grid_gap": null,
            "grid_row": null,
            "grid_template_areas": null,
            "grid_template_columns": null,
            "grid_template_rows": null,
            "height": null,
            "justify_content": null,
            "justify_items": null,
            "left": null,
            "margin": null,
            "max_height": null,
            "max_width": null,
            "min_height": null,
            "min_width": null,
            "object_fit": null,
            "object_position": null,
            "order": null,
            "overflow": null,
            "overflow_x": null,
            "overflow_y": null,
            "padding": null,
            "right": null,
            "top": null,
            "visibility": null,
            "width": null
          }
        },
        "54b6412a69a14b9caa027ed62718b384": {
          "model_module": "@jupyter-widgets/controls",
          "model_module_version": "1.5.0",
          "model_name": "HTMLModel",
          "state": {
            "_dom_classes": [],
            "_model_module": "@jupyter-widgets/controls",
            "_model_module_version": "1.5.0",
            "_model_name": "HTMLModel",
            "_view_count": null,
            "_view_module": "@jupyter-widgets/controls",
            "_view_module_version": "1.5.0",
            "_view_name": "HTMLView",
            "description": "",
            "description_tooltip": null,
            "layout": "IPY_MODEL_cc2ac84fdd0f455f8b4b2bde8f2ca914",
            "placeholder": "​",
            "style": "IPY_MODEL_d8080e544de144febe295c13fdf189bc",
            "value": ""
          }
        },
        "5b3766e7d54040c0af389ee2f3c49347": {
          "model_module": "@jupyter-widgets/base",
          "model_module_version": "1.2.0",
          "model_name": "LayoutModel",
          "state": {
            "_model_module": "@jupyter-widgets/base",
            "_model_module_version": "1.2.0",
            "_model_name": "LayoutModel",
            "_view_count": null,
            "_view_module": "@jupyter-widgets/base",
            "_view_module_version": "1.2.0",
            "_view_name": "LayoutView",
            "align_content": null,
            "align_items": null,
            "align_self": null,
            "border": null,
            "bottom": null,
            "display": null,
            "flex": null,
            "flex_flow": null,
            "grid_area": null,
            "grid_auto_columns": null,
            "grid_auto_flow": null,
            "grid_auto_rows": null,
            "grid_column": null,
            "grid_gap": null,
            "grid_row": null,
            "grid_template_areas": null,
            "grid_template_columns": null,
            "grid_template_rows": null,
            "height": null,
            "justify_content": null,
            "justify_items": null,
            "left": null,
            "margin": null,
            "max_height": null,
            "max_width": null,
            "min_height": null,
            "min_width": null,
            "object_fit": null,
            "object_position": null,
            "order": null,
            "overflow": null,
            "overflow_x": null,
            "overflow_y": null,
            "padding": null,
            "right": null,
            "top": null,
            "visibility": null,
            "width": null
          }
        },
        "5d1bb8ebcbcd4141b729ad5c43d61af4": {
          "model_module": "@jupyter-widgets/controls",
          "model_module_version": "1.5.0",
          "model_name": "HTMLModel",
          "state": {
            "_dom_classes": [],
            "_model_module": "@jupyter-widgets/controls",
            "_model_module_version": "1.5.0",
            "_model_name": "HTMLModel",
            "_view_count": null,
            "_view_module": "@jupyter-widgets/controls",
            "_view_module_version": "1.5.0",
            "_view_name": "HTMLView",
            "description": "",
            "description_tooltip": null,
            "layout": "IPY_MODEL_9a6e03598e0b4ff186bd347bf1e709ce",
            "placeholder": "​",
            "style": "IPY_MODEL_ecf8cda7c8a144ef81b0e56fac49b61a",
            "value": " 4000/4000 [09:27&lt;00:00,  7.04it/s]"
          }
        },
        "5d825b5b343b461d9d70c63c713af324": {
          "model_module": "@jupyter-widgets/base",
          "model_module_version": "1.2.0",
          "model_name": "LayoutModel",
          "state": {
            "_model_module": "@jupyter-widgets/base",
            "_model_module_version": "1.2.0",
            "_model_name": "LayoutModel",
            "_view_count": null,
            "_view_module": "@jupyter-widgets/base",
            "_view_module_version": "1.2.0",
            "_view_name": "LayoutView",
            "align_content": null,
            "align_items": null,
            "align_self": null,
            "border": null,
            "bottom": null,
            "display": null,
            "flex": null,
            "flex_flow": null,
            "grid_area": null,
            "grid_auto_columns": null,
            "grid_auto_flow": null,
            "grid_auto_rows": null,
            "grid_column": null,
            "grid_gap": null,
            "grid_row": null,
            "grid_template_areas": null,
            "grid_template_columns": null,
            "grid_template_rows": null,
            "height": null,
            "justify_content": null,
            "justify_items": null,
            "left": null,
            "margin": null,
            "max_height": null,
            "max_width": null,
            "min_height": null,
            "min_width": null,
            "object_fit": null,
            "object_position": null,
            "order": null,
            "overflow": null,
            "overflow_x": null,
            "overflow_y": null,
            "padding": null,
            "right": null,
            "top": null,
            "visibility": null,
            "width": null
          }
        },
        "6475b3df210844db9493c49c8fce2726": {
          "model_module": "@jupyter-widgets/controls",
          "model_module_version": "1.5.0",
          "model_name": "DescriptionStyleModel",
          "state": {
            "_model_module": "@jupyter-widgets/controls",
            "_model_module_version": "1.5.0",
            "_model_name": "DescriptionStyleModel",
            "_view_count": null,
            "_view_module": "@jupyter-widgets/base",
            "_view_module_version": "1.2.0",
            "_view_name": "StyleView",
            "description_width": ""
          }
        },
        "718359a11c8d4aada7836d65586c81d6": {
          "model_module": "@jupyter-widgets/base",
          "model_module_version": "1.2.0",
          "model_name": "LayoutModel",
          "state": {
            "_model_module": "@jupyter-widgets/base",
            "_model_module_version": "1.2.0",
            "_model_name": "LayoutModel",
            "_view_count": null,
            "_view_module": "@jupyter-widgets/base",
            "_view_module_version": "1.2.0",
            "_view_name": "LayoutView",
            "align_content": null,
            "align_items": null,
            "align_self": null,
            "border": null,
            "bottom": null,
            "display": null,
            "flex": null,
            "flex_flow": null,
            "grid_area": null,
            "grid_auto_columns": null,
            "grid_auto_flow": null,
            "grid_auto_rows": null,
            "grid_column": null,
            "grid_gap": null,
            "grid_row": null,
            "grid_template_areas": null,
            "grid_template_columns": null,
            "grid_template_rows": null,
            "height": null,
            "justify_content": null,
            "justify_items": null,
            "left": null,
            "margin": null,
            "max_height": null,
            "max_width": null,
            "min_height": null,
            "min_width": null,
            "object_fit": null,
            "object_position": null,
            "order": null,
            "overflow": null,
            "overflow_x": null,
            "overflow_y": null,
            "padding": null,
            "right": null,
            "top": null,
            "visibility": null,
            "width": null
          }
        },
        "740e5d2af7664fcb971445bf85f0582f": {
          "model_module": "@jupyter-widgets/controls",
          "model_module_version": "1.5.0",
          "model_name": "DescriptionStyleModel",
          "state": {
            "_model_module": "@jupyter-widgets/controls",
            "_model_module_version": "1.5.0",
            "_model_name": "DescriptionStyleModel",
            "_view_count": null,
            "_view_module": "@jupyter-widgets/base",
            "_view_module_version": "1.2.0",
            "_view_name": "StyleView",
            "description_width": ""
          }
        },
        "76ce6171bb49403b893370b275c0b689": {
          "model_module": "@jupyter-widgets/controls",
          "model_module_version": "1.5.0",
          "model_name": "FloatProgressModel",
          "state": {
            "_dom_classes": [],
            "_model_module": "@jupyter-widgets/controls",
            "_model_module_version": "1.5.0",
            "_model_name": "FloatProgressModel",
            "_view_count": null,
            "_view_module": "@jupyter-widgets/controls",
            "_view_module_version": "1.5.0",
            "_view_name": "ProgressView",
            "bar_style": "success",
            "description": "",
            "description_tooltip": null,
            "layout": "IPY_MODEL_b5068729648849849761ba1aa13abb87",
            "max": 1,
            "min": 0,
            "orientation": "horizontal",
            "style": "IPY_MODEL_95b8d036198b4797b0fb652295229f7c",
            "value": 1
          }
        },
        "7cead4a08d454d3c996ae0d869da9c80": {
          "model_module": "@jupyter-widgets/controls",
          "model_module_version": "1.5.0",
          "model_name": "HBoxModel",
          "state": {
            "_dom_classes": [],
            "_model_module": "@jupyter-widgets/controls",
            "_model_module_version": "1.5.0",
            "_model_name": "HBoxModel",
            "_view_count": null,
            "_view_module": "@jupyter-widgets/controls",
            "_view_module_version": "1.5.0",
            "_view_name": "HBoxView",
            "box_style": "",
            "children": [
              "IPY_MODEL_d451812deda94397952f3bdb8056201d",
              "IPY_MODEL_d8b1efa26df24de7a701928c6736dc67",
              "IPY_MODEL_5d1bb8ebcbcd4141b729ad5c43d61af4"
            ],
            "layout": "IPY_MODEL_ce2573a3f07a4349ab7f9d639d523a40"
          }
        },
        "818f7aab674247e8be1edff1057d0a2e": {
          "model_module": "@jupyter-widgets/base",
          "model_module_version": "1.2.0",
          "model_name": "LayoutModel",
          "state": {
            "_model_module": "@jupyter-widgets/base",
            "_model_module_version": "1.2.0",
            "_model_name": "LayoutModel",
            "_view_count": null,
            "_view_module": "@jupyter-widgets/base",
            "_view_module_version": "1.2.0",
            "_view_name": "LayoutView",
            "align_content": null,
            "align_items": null,
            "align_self": null,
            "border": null,
            "bottom": null,
            "display": null,
            "flex": null,
            "flex_flow": null,
            "grid_area": null,
            "grid_auto_columns": null,
            "grid_auto_flow": null,
            "grid_auto_rows": null,
            "grid_column": null,
            "grid_gap": null,
            "grid_row": null,
            "grid_template_areas": null,
            "grid_template_columns": null,
            "grid_template_rows": null,
            "height": null,
            "justify_content": null,
            "justify_items": null,
            "left": null,
            "margin": null,
            "max_height": null,
            "max_width": null,
            "min_height": null,
            "min_width": null,
            "object_fit": null,
            "object_position": null,
            "order": null,
            "overflow": null,
            "overflow_x": null,
            "overflow_y": null,
            "padding": null,
            "right": null,
            "top": null,
            "visibility": null,
            "width": null
          }
        },
        "8815470e6b8b4bf690c8cd906e749ae6": {
          "model_module": "@jupyter-widgets/controls",
          "model_module_version": "1.5.0",
          "model_name": "HTMLModel",
          "state": {
            "_dom_classes": [],
            "_model_module": "@jupyter-widgets/controls",
            "_model_module_version": "1.5.0",
            "_model_name": "HTMLModel",
            "_view_count": null,
            "_view_module": "@jupyter-widgets/controls",
            "_view_module_version": "1.5.0",
            "_view_name": "HTMLView",
            "description": "",
            "description_tooltip": null,
            "layout": "IPY_MODEL_44a9c2c1837241acbf4e3746bc7bd614",
            "placeholder": "​",
            "style": "IPY_MODEL_ffa60de6f5e84824ac287504b508dff8",
            "value": " 4436068/? [02:34&lt;00:00, 37582.01it/s]"
          }
        },
        "95b8d036198b4797b0fb652295229f7c": {
          "model_module": "@jupyter-widgets/controls",
          "model_module_version": "1.5.0",
          "model_name": "ProgressStyleModel",
          "state": {
            "_model_module": "@jupyter-widgets/controls",
            "_model_module_version": "1.5.0",
            "_model_name": "ProgressStyleModel",
            "_view_count": null,
            "_view_module": "@jupyter-widgets/base",
            "_view_module_version": "1.2.0",
            "_view_name": "StyleView",
            "bar_color": null,
            "description_width": ""
          }
        },
        "9a6e03598e0b4ff186bd347bf1e709ce": {
          "model_module": "@jupyter-widgets/base",
          "model_module_version": "1.2.0",
          "model_name": "LayoutModel",
          "state": {
            "_model_module": "@jupyter-widgets/base",
            "_model_module_version": "1.2.0",
            "_model_name": "LayoutModel",
            "_view_count": null,
            "_view_module": "@jupyter-widgets/base",
            "_view_module_version": "1.2.0",
            "_view_name": "LayoutView",
            "align_content": null,
            "align_items": null,
            "align_self": null,
            "border": null,
            "bottom": null,
            "display": null,
            "flex": null,
            "flex_flow": null,
            "grid_area": null,
            "grid_auto_columns": null,
            "grid_auto_flow": null,
            "grid_auto_rows": null,
            "grid_column": null,
            "grid_gap": null,
            "grid_row": null,
            "grid_template_areas": null,
            "grid_template_columns": null,
            "grid_template_rows": null,
            "height": null,
            "justify_content": null,
            "justify_items": null,
            "left": null,
            "margin": null,
            "max_height": null,
            "max_width": null,
            "min_height": null,
            "min_width": null,
            "object_fit": null,
            "object_position": null,
            "order": null,
            "overflow": null,
            "overflow_x": null,
            "overflow_y": null,
            "padding": null,
            "right": null,
            "top": null,
            "visibility": null,
            "width": null
          }
        },
        "a45af6f126b44c6cad792e1de338f139": {
          "model_module": "@jupyter-widgets/controls",
          "model_module_version": "1.5.0",
          "model_name": "DescriptionStyleModel",
          "state": {
            "_model_module": "@jupyter-widgets/controls",
            "_model_module_version": "1.5.0",
            "_model_name": "DescriptionStyleModel",
            "_view_count": null,
            "_view_module": "@jupyter-widgets/base",
            "_view_module_version": "1.2.0",
            "_view_name": "StyleView",
            "description_width": ""
          }
        },
        "ac96324bc10b410286bf89450d61ca56": {
          "model_module": "@jupyter-widgets/controls",
          "model_module_version": "1.5.0",
          "model_name": "HTMLModel",
          "state": {
            "_dom_classes": [],
            "_model_module": "@jupyter-widgets/controls",
            "_model_module_version": "1.5.0",
            "_model_name": "HTMLModel",
            "_view_count": null,
            "_view_module": "@jupyter-widgets/controls",
            "_view_module_version": "1.5.0",
            "_view_name": "HTMLView",
            "description": "",
            "description_tooltip": null,
            "layout": "IPY_MODEL_3f46b9cdd9a040ff82a4d92ebbff6508",
            "placeholder": "​",
            "style": "IPY_MODEL_ce744f7dd14f4df39e008946d0af2282",
            "value": " 4000/4000 [09:27&lt;00:00,  7.05it/s]"
          }
        },
        "b47cf3754adf463f9184a685e7109d65": {
          "model_module": "@jupyter-widgets/base",
          "model_module_version": "1.2.0",
          "model_name": "LayoutModel",
          "state": {
            "_model_module": "@jupyter-widgets/base",
            "_model_module_version": "1.2.0",
            "_model_name": "LayoutModel",
            "_view_count": null,
            "_view_module": "@jupyter-widgets/base",
            "_view_module_version": "1.2.0",
            "_view_name": "LayoutView",
            "align_content": null,
            "align_items": null,
            "align_self": null,
            "border": null,
            "bottom": null,
            "display": null,
            "flex": null,
            "flex_flow": null,
            "grid_area": null,
            "grid_auto_columns": null,
            "grid_auto_flow": null,
            "grid_auto_rows": null,
            "grid_column": null,
            "grid_gap": null,
            "grid_row": null,
            "grid_template_areas": null,
            "grid_template_columns": null,
            "grid_template_rows": null,
            "height": null,
            "justify_content": null,
            "justify_items": null,
            "left": null,
            "margin": null,
            "max_height": null,
            "max_width": null,
            "min_height": null,
            "min_width": null,
            "object_fit": null,
            "object_position": null,
            "order": null,
            "overflow": null,
            "overflow_x": null,
            "overflow_y": null,
            "padding": null,
            "right": null,
            "top": null,
            "visibility": null,
            "width": null
          }
        },
        "b5068729648849849761ba1aa13abb87": {
          "model_module": "@jupyter-widgets/base",
          "model_module_version": "1.2.0",
          "model_name": "LayoutModel",
          "state": {
            "_model_module": "@jupyter-widgets/base",
            "_model_module_version": "1.2.0",
            "_model_name": "LayoutModel",
            "_view_count": null,
            "_view_module": "@jupyter-widgets/base",
            "_view_module_version": "1.2.0",
            "_view_name": "LayoutView",
            "align_content": null,
            "align_items": null,
            "align_self": null,
            "border": null,
            "bottom": null,
            "display": null,
            "flex": null,
            "flex_flow": null,
            "grid_area": null,
            "grid_auto_columns": null,
            "grid_auto_flow": null,
            "grid_auto_rows": null,
            "grid_column": null,
            "grid_gap": null,
            "grid_row": null,
            "grid_template_areas": null,
            "grid_template_columns": null,
            "grid_template_rows": null,
            "height": null,
            "justify_content": null,
            "justify_items": null,
            "left": null,
            "margin": null,
            "max_height": null,
            "max_width": null,
            "min_height": null,
            "min_width": null,
            "object_fit": null,
            "object_position": null,
            "order": null,
            "overflow": null,
            "overflow_x": null,
            "overflow_y": null,
            "padding": null,
            "right": null,
            "top": null,
            "visibility": null,
            "width": "20px"
          }
        },
        "b96ea14320cf40c8bf306050eddab1fb": {
          "model_module": "@jupyter-widgets/controls",
          "model_module_version": "1.5.0",
          "model_name": "ProgressStyleModel",
          "state": {
            "_model_module": "@jupyter-widgets/controls",
            "_model_module_version": "1.5.0",
            "_model_name": "ProgressStyleModel",
            "_view_count": null,
            "_view_module": "@jupyter-widgets/base",
            "_view_module_version": "1.2.0",
            "_view_name": "StyleView",
            "bar_color": null,
            "description_width": ""
          }
        },
        "ba09458e2d02496dade8cedccc61c932": {
          "model_module": "@jupyter-widgets/controls",
          "model_module_version": "1.5.0",
          "model_name": "HBoxModel",
          "state": {
            "_dom_classes": [],
            "_model_module": "@jupyter-widgets/controls",
            "_model_module_version": "1.5.0",
            "_model_name": "HBoxModel",
            "_view_count": null,
            "_view_module": "@jupyter-widgets/controls",
            "_view_module_version": "1.5.0",
            "_view_name": "HBoxView",
            "box_style": "",
            "children": [
              "IPY_MODEL_0355565ac0244bd68c759f9710dfd47b",
              "IPY_MODEL_ccea66c70be5447a9108a0ce29d0212a",
              "IPY_MODEL_ac96324bc10b410286bf89450d61ca56"
            ],
            "layout": "IPY_MODEL_b47cf3754adf463f9184a685e7109d65"
          }
        },
        "cc2ac84fdd0f455f8b4b2bde8f2ca914": {
          "model_module": "@jupyter-widgets/base",
          "model_module_version": "1.2.0",
          "model_name": "LayoutModel",
          "state": {
            "_model_module": "@jupyter-widgets/base",
            "_model_module_version": "1.2.0",
            "_model_name": "LayoutModel",
            "_view_count": null,
            "_view_module": "@jupyter-widgets/base",
            "_view_module_version": "1.2.0",
            "_view_name": "LayoutView",
            "align_content": null,
            "align_items": null,
            "align_self": null,
            "border": null,
            "bottom": null,
            "display": null,
            "flex": null,
            "flex_flow": null,
            "grid_area": null,
            "grid_auto_columns": null,
            "grid_auto_flow": null,
            "grid_auto_rows": null,
            "grid_column": null,
            "grid_gap": null,
            "grid_row": null,
            "grid_template_areas": null,
            "grid_template_columns": null,
            "grid_template_rows": null,
            "height": null,
            "justify_content": null,
            "justify_items": null,
            "left": null,
            "margin": null,
            "max_height": null,
            "max_width": null,
            "min_height": null,
            "min_width": null,
            "object_fit": null,
            "object_position": null,
            "order": null,
            "overflow": null,
            "overflow_x": null,
            "overflow_y": null,
            "padding": null,
            "right": null,
            "top": null,
            "visibility": null,
            "width": null
          }
        },
        "ccea66c70be5447a9108a0ce29d0212a": {
          "model_module": "@jupyter-widgets/controls",
          "model_module_version": "1.5.0",
          "model_name": "FloatProgressModel",
          "state": {
            "_dom_classes": [],
            "_model_module": "@jupyter-widgets/controls",
            "_model_module_version": "1.5.0",
            "_model_name": "FloatProgressModel",
            "_view_count": null,
            "_view_module": "@jupyter-widgets/controls",
            "_view_module_version": "1.5.0",
            "_view_name": "ProgressView",
            "bar_style": "success",
            "description": "",
            "description_tooltip": null,
            "layout": "IPY_MODEL_5b3766e7d54040c0af389ee2f3c49347",
            "max": 4000,
            "min": 0,
            "orientation": "horizontal",
            "style": "IPY_MODEL_b96ea14320cf40c8bf306050eddab1fb",
            "value": 4000
          }
        },
        "ce2573a3f07a4349ab7f9d639d523a40": {
          "model_module": "@jupyter-widgets/base",
          "model_module_version": "1.2.0",
          "model_name": "LayoutModel",
          "state": {
            "_model_module": "@jupyter-widgets/base",
            "_model_module_version": "1.2.0",
            "_model_name": "LayoutModel",
            "_view_count": null,
            "_view_module": "@jupyter-widgets/base",
            "_view_module_version": "1.2.0",
            "_view_name": "LayoutView",
            "align_content": null,
            "align_items": null,
            "align_self": null,
            "border": null,
            "bottom": null,
            "display": null,
            "flex": null,
            "flex_flow": null,
            "grid_area": null,
            "grid_auto_columns": null,
            "grid_auto_flow": null,
            "grid_auto_rows": null,
            "grid_column": null,
            "grid_gap": null,
            "grid_row": null,
            "grid_template_areas": null,
            "grid_template_columns": null,
            "grid_template_rows": null,
            "height": null,
            "justify_content": null,
            "justify_items": null,
            "left": null,
            "margin": null,
            "max_height": null,
            "max_width": null,
            "min_height": null,
            "min_width": null,
            "object_fit": null,
            "object_position": null,
            "order": null,
            "overflow": null,
            "overflow_x": null,
            "overflow_y": null,
            "padding": null,
            "right": null,
            "top": null,
            "visibility": null,
            "width": null
          }
        },
        "ce744f7dd14f4df39e008946d0af2282": {
          "model_module": "@jupyter-widgets/controls",
          "model_module_version": "1.5.0",
          "model_name": "DescriptionStyleModel",
          "state": {
            "_model_module": "@jupyter-widgets/controls",
            "_model_module_version": "1.5.0",
            "_model_name": "DescriptionStyleModel",
            "_view_count": null,
            "_view_module": "@jupyter-widgets/base",
            "_view_module_version": "1.2.0",
            "_view_name": "StyleView",
            "description_width": ""
          }
        },
        "d451812deda94397952f3bdb8056201d": {
          "model_module": "@jupyter-widgets/controls",
          "model_module_version": "1.5.0",
          "model_name": "HTMLModel",
          "state": {
            "_dom_classes": [],
            "_model_module": "@jupyter-widgets/controls",
            "_model_module_version": "1.5.0",
            "_model_name": "HTMLModel",
            "_view_count": null,
            "_view_module": "@jupyter-widgets/controls",
            "_view_module_version": "1.5.0",
            "_view_name": "HTMLView",
            "description": "",
            "description_tooltip": null,
            "layout": "IPY_MODEL_5498c0aea64149a0a8907f2568f734ac",
            "placeholder": "​",
            "style": "IPY_MODEL_a45af6f126b44c6cad792e1de338f139",
            "value": "100%"
          }
        },
        "d8080e544de144febe295c13fdf189bc": {
          "model_module": "@jupyter-widgets/controls",
          "model_module_version": "1.5.0",
          "model_name": "DescriptionStyleModel",
          "state": {
            "_model_module": "@jupyter-widgets/controls",
            "_model_module_version": "1.5.0",
            "_model_name": "DescriptionStyleModel",
            "_view_count": null,
            "_view_module": "@jupyter-widgets/base",
            "_view_module_version": "1.2.0",
            "_view_name": "StyleView",
            "description_width": ""
          }
        },
        "d8b1efa26df24de7a701928c6736dc67": {
          "model_module": "@jupyter-widgets/controls",
          "model_module_version": "1.5.0",
          "model_name": "FloatProgressModel",
          "state": {
            "_dom_classes": [],
            "_model_module": "@jupyter-widgets/controls",
            "_model_module_version": "1.5.0",
            "_model_name": "FloatProgressModel",
            "_view_count": null,
            "_view_module": "@jupyter-widgets/controls",
            "_view_module_version": "1.5.0",
            "_view_name": "ProgressView",
            "bar_style": "success",
            "description": "",
            "description_tooltip": null,
            "layout": "IPY_MODEL_05c68aa6d9c64c76a92dd9fc1c77e389",
            "max": 4000,
            "min": 0,
            "orientation": "horizontal",
            "style": "IPY_MODEL_41d86a63748440b1811dc4137b9fe7cc",
            "value": 4000
          }
        },
        "e9d97cc0691d4ae68caf41517631a1b4": {
          "model_module": "@jupyter-widgets/controls",
          "model_module_version": "1.5.0",
          "model_name": "HBoxModel",
          "state": {
            "_dom_classes": [],
            "_model_module": "@jupyter-widgets/controls",
            "_model_module_version": "1.5.0",
            "_model_name": "HBoxModel",
            "_view_count": null,
            "_view_module": "@jupyter-widgets/controls",
            "_view_module_version": "1.5.0",
            "_view_name": "HBoxView",
            "box_style": "",
            "children": [
              "IPY_MODEL_54b6412a69a14b9caa027ed62718b384",
              "IPY_MODEL_76ce6171bb49403b893370b275c0b689",
              "IPY_MODEL_8815470e6b8b4bf690c8cd906e749ae6"
            ],
            "layout": "IPY_MODEL_220e86c810ea4102a9b1178ea07bb4a1"
          }
        },
        "ecf8cda7c8a144ef81b0e56fac49b61a": {
          "model_module": "@jupyter-widgets/controls",
          "model_module_version": "1.5.0",
          "model_name": "DescriptionStyleModel",
          "state": {
            "_model_module": "@jupyter-widgets/controls",
            "_model_module_version": "1.5.0",
            "_model_name": "DescriptionStyleModel",
            "_view_count": null,
            "_view_module": "@jupyter-widgets/base",
            "_view_module_version": "1.2.0",
            "_view_name": "StyleView",
            "description_width": ""
          }
        },
        "f1ab0e522b504d0eaf10fa617faeb657": {
          "model_module": "@jupyter-widgets/controls",
          "model_module_version": "1.5.0",
          "model_name": "HTMLModel",
          "state": {
            "_dom_classes": [],
            "_model_module": "@jupyter-widgets/controls",
            "_model_module_version": "1.5.0",
            "_model_name": "HTMLModel",
            "_view_count": null,
            "_view_module": "@jupyter-widgets/controls",
            "_view_module_version": "1.5.0",
            "_view_name": "HTMLView",
            "description": "",
            "description_tooltip": null,
            "layout": "IPY_MODEL_5d825b5b343b461d9d70c63c713af324",
            "placeholder": "​",
            "style": "IPY_MODEL_740e5d2af7664fcb971445bf85f0582f",
            "value": " 1901173/? [00:59&lt;00:00, 36979.84it/s]"
          }
        },
        "ffa60de6f5e84824ac287504b508dff8": {
          "model_module": "@jupyter-widgets/controls",
          "model_module_version": "1.5.0",
          "model_name": "DescriptionStyleModel",
          "state": {
            "_model_module": "@jupyter-widgets/controls",
            "_model_module_version": "1.5.0",
            "_model_name": "DescriptionStyleModel",
            "_view_count": null,
            "_view_module": "@jupyter-widgets/base",
            "_view_module_version": "1.2.0",
            "_view_name": "StyleView",
            "description_width": ""
          }
        }
      }
    }
  },
  "nbformat": 4,
  "nbformat_minor": 0
}
